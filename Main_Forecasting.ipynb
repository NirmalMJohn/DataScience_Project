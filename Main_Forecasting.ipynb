{
  "cells": [
    {
      "cell_type": "markdown",
      "metadata": {
        "id": "view-in-github",
        "colab_type": "text"
      },
      "source": [
        "<a href=\"https://colab.research.google.com/github/NirmalMJohn/DataScience_Project/blob/main/Main_Forecasting.ipynb\" target=\"_parent\"><img src=\"https://colab.research.google.com/assets/colab-badge.svg\" alt=\"Open In Colab\"/></a>"
      ]
    },
    {
      "cell_type": "code",
      "execution_count": 319,
      "metadata": {
        "id": "7BrhjrJLw1Mv"
      },
      "outputs": [],
      "source": [
        "import pandas as pd\n",
        "import matplotlib.pyplot as plt\n",
        "import numpy as np\n",
        "import seaborn as sns\n",
        "from sklearn.preprocessing import MinMaxScaler\n",
        "from sklearn.preprocessing import StandardScaler\n",
        "from sklearn.decomposition import PCA\n",
        "from sklearn.metrics import silhouette_score"
      ]
    },
    {
      "cell_type": "code",
      "execution_count": 320,
      "metadata": {
        "colab": {
          "base_uri": "https://localhost:8080/"
        },
        "id": "fN8fFombnmyG",
        "outputId": "96e07117-97fe-46a7-c238-8edf0c56cb9b"
      },
      "outputs": [
        {
          "output_type": "stream",
          "name": "stdout",
          "text": [
            "Requirement already satisfied: tslearn in /usr/local/lib/python3.10/dist-packages (0.6.3)\n",
            "Requirement already satisfied: numpy in /usr/local/lib/python3.10/dist-packages (from tslearn) (1.26.4)\n",
            "Requirement already satisfied: scipy in /usr/local/lib/python3.10/dist-packages (from tslearn) (1.13.1)\n",
            "Requirement already satisfied: scikit-learn in /usr/local/lib/python3.10/dist-packages (from tslearn) (1.3.2)\n",
            "Requirement already satisfied: numba in /usr/local/lib/python3.10/dist-packages (from tslearn) (0.60.0)\n",
            "Requirement already satisfied: joblib in /usr/local/lib/python3.10/dist-packages (from tslearn) (1.4.2)\n",
            "Requirement already satisfied: llvmlite<0.44,>=0.43.0dev0 in /usr/local/lib/python3.10/dist-packages (from numba->tslearn) (0.43.0)\n",
            "Requirement already satisfied: threadpoolctl>=2.0.0 in /usr/local/lib/python3.10/dist-packages (from scikit-learn->tslearn) (3.5.0)\n",
            "0.6.3\n"
          ]
        }
      ],
      "source": [
        "# Install the tslearn package\n",
        "!pip install tslearn\n",
        "import tslearn\n",
        "print(tslearn.__version__)"
      ]
    },
    {
      "cell_type": "code",
      "execution_count": 321,
      "metadata": {
        "id": "OKbm-zsfppkW"
      },
      "outputs": [],
      "source": [
        "from tslearn.clustering import TimeSeriesKMeans\n",
        "from tslearn.metrics import dtw"
      ]
    },
    {
      "cell_type": "markdown",
      "metadata": {
        "id": "79pvvzGotrEs"
      },
      "source": [
        "## **Usefull Functions for Analysis**"
      ]
    },
    {
      "cell_type": "code",
      "execution_count": 322,
      "metadata": {
        "id": "zvMP4KaGtqtV"
      },
      "outputs": [],
      "source": [
        "def merge_imputed_data(tariff_data, missing_data):\n",
        "    \"\"\"\n",
        "    Merges the imputed missing data with the original data and returns the combined DataFrame.\n",
        "\n",
        "    Parameters:\n",
        "    tariff_data (pd.DataFrame): The original DataFrame containing the consumption data with potential missing timestamps.\n",
        "                             It must contain the columns 'LCLid', 'DateTime', and 'Consumption'.\n",
        "    missing_data (pd.DataFrame): The DataFrame containing the imputed missing data. It must contain the columns\n",
        "                                 'LCLid', 'MissingDateTime', and 'Consumption' along with 'Hour' and 'Month'.\n",
        "\n",
        "    Returns:\n",
        "    pd.DataFrame: A combined DataFrame with the original tariff data and the imputed missing data, sorted by 'LCLid' and 'DateTime'.\n",
        "    \"\"\"\n",
        "    # Append MissingDateTime to original DateTime column in std_data to match the structure\n",
        "    missing_data['DateTime'] = missing_data['MissingDateTime']\n",
        "    missing_data = missing_data.drop(columns=['MissingDateTime', 'Hour', 'Month'])\n",
        "\n",
        "    # Merge the imputed data back to the original std_data\n",
        "    tariff_data_imputed = pd.concat([tariff_data, missing_data], ignore_index=True)\n",
        "    tariff_data_imputed = tariff_data_imputed.sort_values(by=['LCLid', 'DateTime']).reset_index(drop=True)\n",
        "\n",
        "    return tariff_data_imputed"
      ]
    },
    {
      "cell_type": "code",
      "execution_count": 323,
      "metadata": {
        "id": "OBJXK2adtqQa"
      },
      "outputs": [],
      "source": [
        "def identify_outliers_iqr(data):\n",
        "    \"\"\"\n",
        "    Identifies outliers in the data based on IQR.\n",
        "\n",
        "    Parameters:\n",
        "    - data: DataFrame containing the 'TotalConsumption' column.\n",
        "\n",
        "    Returns:\n",
        "    - DataFrame with outliers.\n",
        "    \"\"\"\n",
        "    Q1 = data['TotalConsumption'].quantile(0.25)\n",
        "    Q3 = data['TotalConsumption'].quantile(0.75)\n",
        "    IQR = Q3 - Q1\n",
        "    lower_bound = Q1 - 1.5 * IQR\n",
        "    upper_bound = Q3 + 1.5 * IQR\n",
        "    outliers = data[(data['TotalConsumption'] < lower_bound) | (data['TotalConsumption'] > upper_bound)]\n",
        "    return outliers\n",
        "\n",
        "def plot_total_consumption_distribution(total_consumption, outliers, title):\n",
        "    \"\"\"\n",
        "    Plots the distribution of total consumption values with outliers\n",
        "    highlighted as legends.\n",
        "\n",
        "    Parameters:\n",
        "    - total_consumption: DataFrame containing LCLid and TotalConsumption\n",
        "      columns for STD & ToU.\n",
        "    - outliers: DataFrame containing LCLid and TotalConsumption of the outliers.\n",
        "    - title: Title for the plot.\n",
        "\n",
        "    The function uses a boxplot to visualize the distribution and includes legends for outliers\n",
        "    for easy identification.\n",
        "    \"\"\"\n",
        "    plt.figure(figsize=(12, 6))\n",
        "    sns.boxplot(x='TotalConsumption', data=total_consumption)\n",
        "\n",
        "    # Create a color palette for the legends\n",
        "    unique_outliers = outliers.drop_duplicates(subset=['LCLid'])\n",
        "    print(f\"Unique outliers:\\n{unique_outliers}\")\n",
        "\n",
        "    palette = sns.color_palette(\"hsv\", len(unique_outliers))\n",
        "\n",
        "    # Plot legends for each unique outlier LCLid\n",
        "    handles = []\n",
        "    for i in range(unique_outliers.shape[0]):\n",
        "        handles.append(plt.Line2D([0], [0], marker='o', color='w', label=unique_outliers.iloc[i]['LCLid'],\n",
        "                                  markerfacecolor=palette[i], markersize=10))\n",
        "\n",
        "    plt.legend(title='Outlier LCLid', handles=handles)\n",
        "    plt.title(title)\n",
        "    plt.xlabel('Total Consumption')\n",
        "    plt.show()\n",
        "\n",
        "    return unique_outliers[['LCLid']].reset_index(drop=True)\n"
      ]
    },
    {
      "cell_type": "code",
      "source": [
        "def plot_monthly_consumption(std_data_clean, tou_data_clean):\n",
        "    \"\"\"\n",
        "    This function plots a line graph comparing the sum of consumption grouped by month\n",
        "    for the year 2013 from two data frames: std_data_clean and tou_data_clean.\n",
        "\n",
        "    Parameters:\n",
        "    std_data_clean (DataFrame): The first data frame containing the standard data.\n",
        "    tou_data_clean (DataFrame): The second data frame containing the time-of-use data.\n",
        "\n",
        "    Returns:None\n",
        "    \"\"\"\n",
        "    # Converting DateTime column to datetime type\n",
        "    std_data_clean['DateTime'] = pd.to_datetime(std_data_clean['DateTime'])\n",
        "    tou_data_clean['DateTime'] = pd.to_datetime(tou_data_clean['DateTime'])\n",
        "\n",
        "    # Filtering data for the year 2013\n",
        "    std_2013 = std_data_clean[std_data_clean['DateTime'].dt.year == 2013]\n",
        "    tou_2013 = tou_data_clean[tou_data_clean['DateTime'].dt.year == 2013]\n",
        "\n",
        "    # Grouping by month and summing the Consumption\n",
        "    std_monthly_consumption = std_2013.groupby(std_2013['DateTime'].dt.month)['Consumption'].sum()\n",
        "    tou_monthly_consumption = tou_2013.groupby(tou_2013['DateTime'].dt.month)['Consumption'].sum()\n",
        "\n",
        "    # Plotting the line graph\n",
        "    plt.figure(figsize=(10, 6))\n",
        "    plt.plot(std_monthly_consumption.index, std_monthly_consumption.values, label='STD Data', marker='o')\n",
        "    plt.plot(tou_monthly_consumption.index, tou_monthly_consumption.values, label='TOU Data', marker='o')\n",
        "    plt.xlabel('Month')\n",
        "    plt.ylabel('Total Consumption')\n",
        "    plt.title('Monthly Consumption for Year 2013')\n",
        "    plt.legend()\n",
        "    plt.grid(True)\n",
        "    plt.figtext(0.5, -0.1, 'Figure 1: Comparison of monthly consumption for the year 2013 between STD and TOU data.', ha='center', fontsize=10)\n",
        "    plt.show()\n"
      ],
      "metadata": {
        "id": "fjUm9SV2hSnS"
      },
      "execution_count": 324,
      "outputs": []
    },
    {
      "cell_type": "code",
      "execution_count": 325,
      "metadata": {
        "id": "h-WAPiCbKcZ4"
      },
      "outputs": [],
      "source": [
        "def normalize_time_series_data(input_df):\n",
        "    \"\"\"\n",
        "    This function normalizes the time-series data (excluding the 'LCLid' and 'DateTime' columns)\n",
        "    in the provided DataFrame using Min-Max scaling within each group defined by the 'LCLid' column.\n",
        "\n",
        "    Parameters:\n",
        "    input_df (pd.DataFrame): DataFrame containing the time-series data with 'LCLid' and 'DateTime' columns.\n",
        "\n",
        "    Returns:\n",
        "    pd.DataFrame: DataFrame with normalized time-series data.\n",
        "    \"\"\"\n",
        "    # Group the data by the 'LCLid' column\n",
        "    groups = input_df.groupby('LCLid')\n",
        "\n",
        "    # Initialize a list to store the normalized groups\n",
        "    normalized_groups = []\n",
        "\n",
        "    # Iterate over each group\n",
        "    for name, group in groups:\n",
        "        # Extract time-series columns (excluding the 'LCLid' and 'DateTime' columns)\n",
        "        time_series_data = group.drop(columns=['LCLid', 'DateTime'])\n",
        "\n",
        "        # Initialize the scaler\n",
        "        scaler = MinMaxScaler()\n",
        "\n",
        "        # Fit and transform the time-series data\n",
        "        normalized_data = scaler.fit_transform(time_series_data)\n",
        "\n",
        "        # Create a new DataFrame with the normalized data\n",
        "        normalized_group = pd.DataFrame(normalized_data, columns=time_series_data.columns)\n",
        "\n",
        "        # Add the 'LCLid' and 'DateTime' columns back\n",
        "        normalized_group.insert(0, 'DateTime', group['DateTime'].values)\n",
        "        normalized_group.insert(0, 'LCLid', group['LCLid'].values)\n",
        "\n",
        "        # Append the normalized group to the list\n",
        "        normalized_groups.append(normalized_group)\n",
        "\n",
        "    # Concatenate all normalized groups into a single DataFrame\n",
        "    normalized_df = pd.concat(normalized_groups, ignore_index=True)\n",
        "\n",
        "    return normalized_df"
      ]
    },
    {
      "cell_type": "code",
      "source": [
        "def plot_average_day_comparison(std_df, tou_df, half_hour_intervals=48):\n",
        "    \"\"\"\n",
        "    Plot the average day consumption for STD and ToU datasets, and the percentage difference between them.\n",
        "\n",
        "    Parameters:\n",
        "    std_df (pd.DataFrame): DataFrame containing the normalized and pivoted data for the STD dataset.\n",
        "    tou_df (pd.DataFrame): DataFrame containing the normalized and pivoted data for the ToU dataset.\n",
        "    half_hour_intervals (int): The number of half-hour intervals to display on the x-axis. Default is 48 (24 hours).\n",
        "    \"\"\"\n",
        "    # Drop the LCLid column to focus on the time series data\n",
        "    std_data = std_df.drop(columns=['LCLid']).iloc[:, :half_hour_intervals]\n",
        "    tou_data = tou_df.drop(columns=['LCLid']).iloc[:, :half_hour_intervals]\n",
        "\n",
        "    # Compute the average consumption for each half-hour interval\n",
        "    std_mean = std_data.mean(axis=0)\n",
        "    tou_mean = tou_data.mean(axis=0)\n",
        "\n",
        "    # Compute the percentage difference\n",
        "    percent_diff = ((std_mean - tou_mean) / tou_mean) * 100\n",
        "\n",
        "    # Plotting\n",
        "    fig, ax1 = plt.subplots(figsize=(14, 7))\n",
        "\n",
        "    # Plotting mean consumption\n",
        "    ax1.plot(std_mean.index, std_mean, color='black', label='STD average day')\n",
        "    ax1.plot(tou_mean.index, tou_mean, color='orange', label='ToU dataset average day')\n",
        "    ax1.set_xlabel('Half hour in day (0 = midnight)')\n",
        "    ax1.set_ylabel('Mean % annual consumption in half hour')\n",
        "    ax1.legend(loc='upper right')\n",
        "\n",
        "    # Adding secondary axis for percentage difference\n",
        "    ax2 = ax1.twinx()\n",
        "    ax2.bar(std_mean.index, percent_diff, color='grey', alpha=0.5, label='% difference')\n",
        "    ax2.set_ylabel('% difference between STD and ToU mean value in half hour')\n",
        "\n",
        "    # Adjusting x-axis limits to the specified period\n",
        "    ax1.set_xlim([0, half_hour_intervals - 1])\n",
        "\n",
        "    # Adding a legend\n",
        "    fig.tight_layout()\n",
        "    ax1.legend(loc='upper left')\n",
        "    ax2.legend(loc='upper right')\n",
        "\n",
        "    # Adding title\n",
        "    plt.title('STD average day compared with ToU average day')\n",
        "    plt.show()"
      ],
      "metadata": {
        "id": "coi1-cgiNqzo"
      },
      "execution_count": 326,
      "outputs": []
    },
    {
      "cell_type": "code",
      "source": [
        "def perform_pca(normalized_df, n_components=None):\n",
        "    \"\"\"\n",
        "    Perform PCA on the normalized DataFrame and print explained variance and cumulative explained variance.\n",
        "\n",
        "    Parameters:\n",
        "    normalized_df (pd.DataFrame): DataFrame containing normalized time-series data.\n",
        "    n_components (int or None): Number of PCA components to retain. If None, use min(n_samples, n_features).\n",
        "\n",
        "    Returns:\n",
        "    pd.DataFrame: PCA-transformed data as a DataFrame.\n",
        "    \"\"\"\n",
        "    # Extract time-series data and identifiers\n",
        "    identifiers = normalized_df.iloc[:, 0].values\n",
        "    time_series_data = normalized_df.iloc[:, 1:].values\n",
        "\n",
        "    # Standardize the data\n",
        "    scaler = StandardScaler()\n",
        "    time_series_data_scaled = scaler.fit_transform(time_series_data)\n",
        "\n",
        "    # Determine the number of PCA components to use\n",
        "    n_samples, n_features = time_series_data_scaled.shape\n",
        "    if n_components is None:\n",
        "        n_components = min(n_samples, n_features)\n",
        "\n",
        "    # Ensure n_components is not greater than the number of features\n",
        "    n_components = min(n_components, n_features)\n",
        "\n",
        "    # Apply PCA\n",
        "    pca = PCA(n_components=n_components)\n",
        "    time_series_data_pca = pca.fit_transform(time_series_data_scaled)\n",
        "\n",
        "    # Print explained variance and cumulative explained variance\n",
        "    explained_variance = pca.explained_variance_ratio_\n",
        "    cumulative_explained_variance = explained_variance.cumsum()\n",
        "    print(\"Explained Variance by each component:\", explained_variance)\n",
        "    print(\"Cumulative Explained Variance:\", cumulative_explained_variance)\n",
        "\n",
        "    # Convert PCA-transformed data back to DataFrame\n",
        "    pca_df = pd.DataFrame(time_series_data_pca, columns=[f'PC{i+1}' for i in range(n_components)])\n",
        "    pca_df.insert(0, normalized_df.columns[0], identifiers)\n",
        "\n",
        "    return pca_df"
      ],
      "metadata": {
        "id": "3Pm7E9qiopfb"
      },
      "execution_count": 327,
      "outputs": []
    },
    {
      "cell_type": "code",
      "source": [
        "def find_optimal_clusters_pca(pca_df, max_clusters=10):\n",
        "    \"\"\"\n",
        "    Find the optimal number of clusters for PCA-transformed data using the elbow method and silhouette score.\n",
        "\n",
        "    Parameters:\n",
        "    pca_df (pd.DataFrame): PCA-transformed data.\n",
        "    max_clusters (int): Maximum number of clusters to test.\n",
        "\n",
        "    Returns:\n",
        "    None\n",
        "    \"\"\"\n",
        "    data = pca_df.iloc[:, 1:].values\n",
        "    num_clusters = range(2, max_clusters + 1)\n",
        "    sum_of_squared_distances = []\n",
        "    silhouette_scores = []\n",
        "\n",
        "    for k in num_clusters:\n",
        "        model = TimeSeriesKMeans(n_clusters=k, metric=\"dtw\", verbose=True, random_state=42)\n",
        "        cluster_labels = model.fit_predict(data)\n",
        "\n",
        "        sum_of_squared_distances.append(model.inertia_)\n",
        "        silhouette_avg = silhouette_score(data, cluster_labels, metric=dtw)\n",
        "        silhouette_scores.append(silhouette_avg)\n",
        "\n",
        "    # Plot the elbow method\n",
        "    plt.figure(figsize=(12, 6))\n",
        "    plt.plot(num_clusters, sum_of_squared_distances, 'bx-')\n",
        "    plt.xlabel('Number of clusters (k)')\n",
        "    plt.ylabel('Sum of squared distances')\n",
        "    plt.title('Elbow Method For Optimal k')\n",
        "    plt.show()\n",
        "\n",
        "    # Plot the silhouette scores\n",
        "    plt.figure(figsize=(12, 6))\n",
        "    plt.plot(num_clusters, silhouette_scores, 'bx-')\n",
        "    plt.xlabel('Number of clusters (k)')\n",
        "    plt.ylabel('Silhouette score')\n",
        "    plt.title('Silhouette Score For Optimal k')\n",
        "    plt.show()\n",
        "\n",
        "    optimal_clusters = num_clusters[np.argmax(silhouette_scores)]\n",
        "    print(f'Optimal number of clusters: {optimal_clusters}')"
      ],
      "metadata": {
        "id": "m-_GcCrvGHaR"
      },
      "execution_count": 382,
      "outputs": []
    },
    {
      "cell_type": "code",
      "source": [
        "def perform_clustering(pca_df, n_clusters):\n",
        "    \"\"\"\n",
        "    Perform clustering on the PCA-transformed time series data.\n",
        "\n",
        "    Parameters:\n",
        "    pca_df (pd.DataFrame): PCA-transformed data.\n",
        "    n_clusters (int): Number of clusters.\n",
        "\n",
        "    Returns:\n",
        "    pd.DataFrame: DataFrame with cluster labels.\n",
        "    \"\"\"\n",
        "    data = pca_df.iloc[:, 1:].values\n",
        "    model = TimeSeriesKMeans(n_clusters=n_clusters, metric=\"dtw\", verbose=True, random_state=42)\n",
        "    cluster_labels = model.fit_predict(data)\n",
        "\n",
        "    pca_df_with_labels = pca_df.copy()\n",
        "    pca_df_with_labels['Cluster'] = cluster_labels\n",
        "    return pca_df_with_labels\n"
      ],
      "metadata": {
        "id": "6HtVdmPsGHN8"
      },
      "execution_count": 384,
      "outputs": []
    },
    {
      "cell_type": "code",
      "source": [
        "def plot_clusters(pca_df_with_labels, title):\n",
        "    \"\"\"\n",
        "    Plot the clusters formed by K-Means clustering with DTW using a scatter plot of the first two PCA components.\n",
        "\n",
        "    Parameters:\n",
        "    pca_df_with_labels (pd.DataFrame): PCA-transformed data with cluster labels.\n",
        "    title (str): Title of the plot.\n",
        "    \"\"\"\n",
        "    cluster_labels = pca_df_with_labels['Cluster'].values\n",
        "    unique_clusters = np.unique(cluster_labels)\n",
        "\n",
        "    plt.figure(figsize=(15, 10))\n",
        "\n",
        "    # Plot each cluster separately\n",
        "    for cluster in unique_clusters:\n",
        "        cluster_data = pca_df_with_labels[pca_df_with_labels['Cluster'] == cluster]\n",
        "        plt.scatter(cluster_data['PC1'], cluster_data['PC2'], label=f'Cluster {cluster}')\n",
        "\n",
        "    plt.title(title)\n",
        "    plt.xlabel('Principal Component 1')\n",
        "    plt.ylabel('Principal Component 2')\n",
        "    plt.legend()\n",
        "    plt.show()"
      ],
      "metadata": {
        "id": "iNch1qQZQN_8"
      },
      "execution_count": 386,
      "outputs": []
    },
    {
      "cell_type": "code",
      "source": [
        "def plot_cluster_daily_consumption(df, half_hour_intervals=48):\n",
        "    \"\"\"\n",
        "    Plot the summed consumption over 24 hours (48 half-hour intervals) for each cluster.\n",
        "\n",
        "    Parameters:\n",
        "    df (pd.DataFrame): DataFrame containing the time-series data  for STD\n",
        "    with a 'Cluster' column.\n",
        "    half_hour_intervals (int): The number of half-hour intervals to display on\n",
        "    the x-axis. Default is 48 (24 hours).\n",
        "    \"\"\"\n",
        "    # Ensure the DataFrame is limited to the required half-hour intervals and clusters\n",
        "    consumption_data = df.drop(columns=['LCLid', 'Cluster']).iloc[:, :half_hour_intervals]\n",
        "    clusters = df['Cluster']\n",
        "\n",
        "    # Sum the consumption values for each cluster\n",
        "    cluster_sums = consumption_data.groupby(clusters).sum()\n",
        "\n",
        "    # Plotting\n",
        "    plt.figure(figsize=(14, 7))\n",
        "    for cluster_id, row in cluster_sums.iterrows():\n",
        "        plt.plot(range(half_hour_intervals), row, label=f'Cluster {cluster_id}')\n",
        "\n",
        "    plt.xlabel('Half hour in day (0 = midnight)')\n",
        "    plt.ylabel('Sum of annual consumption in half hour')\n",
        "    plt.title('Aggregated  Consumption over 24 Hours for Each Cluster')\n",
        "    plt.legend()\n",
        "    plt.show()\n"
      ],
      "metadata": {
        "id": "UBAlYTB_hHSP"
      },
      "execution_count": 390,
      "outputs": []
    },
    {
      "cell_type": "markdown",
      "metadata": {
        "id": "hli0HcHdyijL"
      },
      "source": [
        "## **Sampling Data taking 50 unique LCLid of customers in STD and ToU Tariff from Year 2013**"
      ]
    },
    {
      "cell_type": "code",
      "execution_count": 332,
      "metadata": {
        "colab": {
          "base_uri": "https://localhost:8080/"
        },
        "id": "3JEOsZ1TMa7u",
        "outputId": "3ae7975b-5877-4412-e3fe-0596ded32f5d"
      },
      "outputs": [
        {
          "output_type": "stream",
          "name": "stdout",
          "text": [
            "STD IDs (count: 50): ['MAC000032', 'MAC000047', 'MAC000012', 'MAC000066', 'MAC000041']\n",
            "TOU IDs (count: 50): ['MAC000344', 'MAC000292', 'MAC000015', 'MAC000051', 'MAC000195']\n",
            "STD Data Date Range: 2013-01-01 00:00:00 - 2014-02-28 00:00:00\n",
            "TOU Data Date Range: 2013-01-01 00:00:00 - 2014-02-28 00:00:00\n",
            "STD Data:\n",
            "          LCLid stdorToU            DateTime KWH/hh (per half hour) \n",
            "3840  MAC000002      Std 2013-01-01 00:00:00                  0.219 \n",
            "3841  MAC000002      Std 2013-01-01 00:30:00                  0.241 \n",
            "3842  MAC000002      Std 2013-01-01 01:00:00                  0.191 \n",
            "3843  MAC000002      Std 2013-01-01 01:30:00                  0.235 \n",
            "3844  MAC000002      Std 2013-01-01 02:00:00                  0.182 \n",
            "\n",
            "TOU Data:\n",
            "               LCLid stdorToU            DateTime KWH/hh (per half hour) \n",
            "134158912  MAC000005      ToU 2013-01-01 00:00:00                  0.096 \n",
            "134158913  MAC000005      ToU 2013-01-01 00:30:00                  0.111 \n",
            "134158914  MAC000005      ToU 2013-01-01 01:00:00                  0.071 \n",
            "134158915  MAC000005      ToU 2013-01-01 01:30:00                  0.035 \n",
            "134158916  MAC000005      ToU 2013-01-01 02:00:00                  0.035 \n"
          ]
        }
      ],
      "source": [
        "import pandas as pd\n",
        "\n",
        "filename = '/content/drive/MyDrive/LCL-FullData/CC_LCL-FullData.csv'\n",
        "chunksize = 10**6  # Adjust based on available memory\n",
        "\n",
        "# Desired date range\n",
        "start_date = pd.to_datetime('2013-01-01')\n",
        "end_date = pd.to_datetime('2014-02-28')\n",
        "\n",
        "# Step 1: Identify IDs with complete date coverage\n",
        "std_ids = set()\n",
        "tou_ids = set()\n",
        "\n",
        "# Read file in chunks\n",
        "for chunk in pd.read_csv(filename, chunksize=chunksize, parse_dates=['DateTime']):\n",
        "    # Ensure DateTime column is properly parsed\n",
        "    chunk['DateTime'] = pd.to_datetime(chunk['DateTime'], errors='coerce')\n",
        "\n",
        "    # Filter by date range first\n",
        "    chunk = chunk[(chunk['DateTime'] >= start_date) & (chunk['DateTime'] <= end_date)]\n",
        "\n",
        "    if len(std_ids) < 50:\n",
        "        std_chunk = chunk[chunk['stdorToU'] == 'Std']\n",
        "        grouped_std = std_chunk.groupby('LCLid')\n",
        "        for name, group in grouped_std:\n",
        "            if group['DateTime'].min() <= start_date and group['DateTime'].max() >= end_date:\n",
        "                std_ids.add(name)\n",
        "            if len(std_ids) >= 50:\n",
        "                break\n",
        "\n",
        "    if len(tou_ids) < 50:\n",
        "        tou_chunk = chunk[chunk['stdorToU'] == 'ToU']\n",
        "        grouped_tou = tou_chunk.groupby('LCLid')\n",
        "        for name, group in grouped_tou:\n",
        "            if group['DateTime'].min() <= start_date and group['DateTime'].max() >= end_date:\n",
        "                tou_ids.add(name)\n",
        "            if len(tou_ids) >= 50:\n",
        "                break\n",
        "\n",
        "    # Check if we have enough IDs\n",
        "    if len(std_ids) >= 50 and len(tou_ids) >= 50:\n",
        "        break\n",
        "\n",
        "std_ids = list(std_ids)\n",
        "tou_ids = list(tou_ids)\n",
        "\n",
        "# Debug: Check if the correct IDs were identified\n",
        "print(f\"STD IDs (count: {len(std_ids)}): {std_ids[:5]}\")  # Print first 5 IDs for verification\n",
        "print(f\"TOU IDs (count: {len(tou_ids)}): {tou_ids[:5]}\")  # Print first 5 IDs for verification\n",
        "\n",
        "# Step 2: Collect all rows for selected IDs\n",
        "std_data = []\n",
        "tou_data = []\n",
        "\n",
        "for chunk in pd.read_csv(filename, chunksize=chunksize, parse_dates=['DateTime']):\n",
        "    chunk['DateTime'] = pd.to_datetime(chunk['DateTime'], errors='coerce')\n",
        "\n",
        "    std_chunk = chunk[chunk['LCLid'].isin(std_ids) & (chunk['stdorToU'] == 'Std')]\n",
        "    tou_chunk = chunk[chunk['LCLid'].isin(tou_ids) & (chunk['stdorToU'] == 'ToU')]\n",
        "\n",
        "    std_data.append(std_chunk)\n",
        "    tou_data.append(tou_chunk)\n",
        "\n",
        "# Concatenate the dataframes only if they are not empty\n",
        "if std_data:\n",
        "    std_data = pd.concat(std_data)\n",
        "else:\n",
        "    std_data = pd.DataFrame()\n",
        "\n",
        "if tou_data:\n",
        "    tou_data = pd.concat(tou_data)\n",
        "else:\n",
        "    tou_data = pd.DataFrame()\n",
        "\n",
        "# Filter concatenated data by date range to ensure correctness\n",
        "std_data = std_data[(std_data['DateTime'] >= start_date) & (std_data['DateTime'] <= end_date)]\n",
        "tou_data = tou_data[(tou_data['DateTime'] >= start_date) & (tou_data['DateTime'] <= end_date)]\n",
        "\n",
        "# Debug: Check the range of dates in the resulting data\n",
        "print(\"STD Data Date Range:\", std_data['DateTime'].min(), \"-\", std_data['DateTime'].max())\n",
        "print(\"TOU Data Date Range:\", tou_data['DateTime'].min(), \"-\", tou_data['DateTime'].max())\n",
        "\n",
        "print(\"STD Data:\")\n",
        "print(std_data.head())\n",
        "print(\"\\nTOU Data:\")\n",
        "print(tou_data.head())"
      ]
    },
    {
      "cell_type": "markdown",
      "metadata": {
        "id": "CKTZ9r3TjpVS"
      },
      "source": [
        "#**Preprocessing**"
      ]
    },
    {
      "cell_type": "code",
      "execution_count": 333,
      "metadata": {
        "id": "taeS0qggeANW",
        "colab": {
          "base_uri": "https://localhost:8080/"
        },
        "outputId": "7c416a7c-8cc9-4ea4-ca73-a858f2aa5d1d"
      },
      "outputs": [
        {
          "output_type": "stream",
          "name": "stderr",
          "text": [
            "<ipython-input-333-f0d79ed1ce01>:2: SettingWithCopyWarning: \n",
            "A value is trying to be set on a copy of a slice from a DataFrame\n",
            "\n",
            "See the caveats in the documentation: https://pandas.pydata.org/pandas-docs/stable/user_guide/indexing.html#returning-a-view-versus-a-copy\n",
            "  std_data.rename(columns={'KWH/hh (per half hour) ': 'Consumption'}, inplace=True)\n"
          ]
        }
      ],
      "source": [
        "# Renaming the Column name KWH/hh (per half hour) to Consumption in std Data\n",
        "std_data.rename(columns={'KWH/hh (per half hour) ': 'Consumption'}, inplace=True)\n",
        "tou_data.rename(columns={'KWH/hh (per half hour) ': 'Consumption'}, inplace=True)"
      ]
    },
    {
      "cell_type": "code",
      "execution_count": 334,
      "metadata": {
        "id": "B0wPVYHLjysB"
      },
      "outputs": [],
      "source": [
        "# Droping Column stdorTou from both Std & ToU dataframes\n",
        "std_data.drop('stdorToU', axis=1, inplace=True)\n",
        "tou_data.drop('stdorToU', axis=1, inplace=True)"
      ]
    },
    {
      "cell_type": "code",
      "execution_count": 335,
      "metadata": {
        "id": "TvBfGLbJkYDy"
      },
      "outputs": [],
      "source": [
        "# Resetting the Index of Dataframes\n",
        "std_data = std_data.reset_index(drop=True)\n",
        "tou_data = tou_data.reset_index(drop=True)\n"
      ]
    },
    {
      "cell_type": "code",
      "execution_count": 336,
      "metadata": {
        "colab": {
          "base_uri": "https://localhost:8080/"
        },
        "id": "zl_EsxXsuecy",
        "outputId": "04a9bc9b-eefd-47c7-830c-51353ece2fc3"
      },
      "outputs": [
        {
          "output_type": "stream",
          "name": "stdout",
          "text": [
            "<class 'pandas.core.frame.DataFrame'>\n",
            "RangeIndex: 1015780 entries, 0 to 1015779\n",
            "Data columns (total 3 columns):\n",
            " #   Column       Non-Null Count    Dtype         \n",
            "---  ------       --------------    -----         \n",
            " 0   LCLid        1015780 non-null  object        \n",
            " 1   DateTime     1015780 non-null  datetime64[ns]\n",
            " 2   Consumption  1015780 non-null  object        \n",
            "dtypes: datetime64[ns](1), object(2)\n",
            "memory usage: 23.2+ MB\n"
          ]
        }
      ],
      "source": [
        "std_data.info()"
      ]
    },
    {
      "cell_type": "code",
      "execution_count": 337,
      "metadata": {
        "colab": {
          "base_uri": "https://localhost:8080/"
        },
        "id": "w21iQjEK-BvE",
        "outputId": "d3915f75-bf1a-4715-de9e-dbddba02a70e"
      },
      "outputs": [
        {
          "output_type": "stream",
          "name": "stdout",
          "text": [
            "Number of NaN values: LCLid          0\n",
            "DateTime       0\n",
            "Consumption    0\n",
            "dtype: int64\n"
          ]
        }
      ],
      "source": [
        "nan_count = std_data.isna().sum()\n",
        "print(f\"Number of NaN values: {nan_count}\")\n"
      ]
    },
    {
      "cell_type": "code",
      "execution_count": 338,
      "metadata": {
        "colab": {
          "base_uri": "https://localhost:8080/"
        },
        "id": "H1cCoAna-BoX",
        "outputId": "f97fcea6-0d35-4956-fa88-c22e7dce49cd"
      },
      "outputs": [
        {
          "output_type": "execute_result",
          "data": {
            "text/plain": [
              "Index(['LCLid', 'DateTime', 'Consumption'], dtype='object')"
            ]
          },
          "metadata": {},
          "execution_count": 338
        }
      ],
      "source": [
        "std_data.columns"
      ]
    },
    {
      "cell_type": "code",
      "execution_count": 339,
      "metadata": {
        "colab": {
          "base_uri": "https://localhost:8080/"
        },
        "id": "kTVXe31_-BYD",
        "outputId": "35e54a50-36c3-4c98-b5f1-7b05dd59bca7"
      },
      "outputs": [
        {
          "output_type": "execute_result",
          "data": {
            "text/plain": [
              "Index(['LCLid', 'DateTime', 'Consumption'], dtype='object')"
            ]
          },
          "metadata": {},
          "execution_count": 339
        }
      ],
      "source": [
        "tou_data.columns"
      ]
    },
    {
      "cell_type": "code",
      "execution_count": 340,
      "metadata": {
        "id": "jrK9qmO9qugl"
      },
      "outputs": [],
      "source": [
        "#Parsing the DateTime column in both data frames\n",
        "std_data['DateTime'] = pd.to_datetime(std_data['DateTime'])\n",
        "tou_data['DateTime'] = pd.to_datetime(tou_data['DateTime'])"
      ]
    },
    {
      "cell_type": "markdown",
      "metadata": {
        "id": "Q0VzZixMwii6"
      },
      "source": [
        "## **Missing Value Imputation for STD Data**"
      ]
    },
    {
      "cell_type": "code",
      "execution_count": 341,
      "metadata": {
        "id": "GWWl9ifrquc2"
      },
      "outputs": [],
      "source": [
        "std_data['DateTime'] = pd.to_datetime(std_data['DateTime'])  # Convert to datetime if not already\n",
        "std_data['Consumption'] = pd.to_numeric(std_data['Consumption'], errors='coerce')  # Ensure numeric\n",
        "\n",
        "# Find complete DateTime range\n",
        "min_date = std_data['DateTime'].min()\n",
        "max_date = std_data['DateTime'].max()\n",
        "freq = '30min'  # Frequency of 30 minutes\n",
        "\n",
        "all_dates = pd.date_range(start=min_date, end=max_date, freq=freq)"
      ]
    },
    {
      "cell_type": "code",
      "execution_count": 342,
      "metadata": {
        "colab": {
          "base_uri": "https://localhost:8080/"
        },
        "id": "5D3CFUqKMAc6",
        "outputId": "a955ceeb-d3a9-4859-fc5c-f8120746c45d"
      },
      "outputs": [
        {
          "output_type": "stream",
          "name": "stdout",
          "text": [
            "        LCLid  MissingDaysCount\n",
            "0   MAC000002                 1\n",
            "1   MAC000003                 2\n",
            "2   MAC000004                 1\n",
            "3   MAC000007                 5\n",
            "4   MAC000009                 1\n",
            "5   MAC000011                 1\n",
            "6   MAC000012                 2\n",
            "7   MAC000013                 1\n",
            "8   MAC000020                 2\n",
            "9   MAC000021                 1\n",
            "10  MAC000022                 2\n",
            "11  MAC000023                 1\n",
            "12  MAC000024                 1\n",
            "13  MAC000025                 6\n",
            "14  MAC000026                 5\n",
            "15  MAC000027                 2\n",
            "16  MAC000029                 1\n",
            "17  MAC000030                 3\n",
            "18  MAC000032                 1\n",
            "19  MAC000033                 2\n",
            "20  MAC000034                 2\n",
            "21  MAC000035                 2\n",
            "22  MAC000036                 1\n",
            "23  MAC000037                 1\n",
            "24  MAC000038                 3\n",
            "25  MAC000039                 2\n",
            "26  MAC000041                 2\n",
            "27  MAC000042                 2\n",
            "28  MAC000043                 2\n",
            "29  MAC000045                 2\n",
            "30  MAC000047                 6\n",
            "31  MAC000053                 4\n",
            "32  MAC000054                 2\n",
            "33  MAC000055                 3\n",
            "34  MAC000056                 2\n",
            "35  MAC000058                 3\n",
            "36  MAC000059                 2\n",
            "37  MAC000061                 1\n",
            "38  MAC000062                 2\n",
            "39  MAC000066                 2\n",
            "40  MAC000067                 2\n",
            "41  MAC000068                 5\n",
            "       LCLid     MissingDateTime\n",
            "0  MAC000002 2014-01-15 21:00:00\n",
            "1  MAC000003 2013-03-26 21:30:00\n",
            "2  MAC000003 2013-05-08 05:30:00\n",
            "3  MAC000004 2013-05-04 06:00:00\n",
            "4  MAC000007 2013-02-16 12:30:00\n"
          ]
        }
      ],
      "source": [
        "# Initialize an empty DataFrame to store missing data and a list to store missing counts\n",
        "missing_data = pd.DataFrame()\n",
        "missing_counts = []\n",
        "\n",
        "# Identify missing DateTime values for each LCLid and count missing days\n",
        "for lid, group in std_data.groupby('LCLid'):\n",
        "    existing_dates = pd.to_datetime(group['DateTime'])\n",
        "    missing_dates = pd.Series(all_dates.difference(existing_dates))  # Convert to Pandas Series\n",
        "\n",
        "    if not missing_dates.empty:\n",
        "        # Count unique missing days\n",
        "        missing_days_count = missing_dates.dt.date.nunique()\n",
        "        missing_counts.append({'LCLid': lid, 'MissingDaysCount': missing_days_count})\n",
        "\n",
        "        # Create a DataFrame for the missing rows\n",
        "        missing_rows = pd.DataFrame({\n",
        "            'LCLid': lid,\n",
        "            'MissingDateTime': missing_dates\n",
        "        })\n",
        "        missing_data = pd.concat([missing_data, missing_rows], ignore_index=True)\n",
        "\n",
        "# Convert missing counts to a DataFrame\n",
        "missing_counts_df = pd.DataFrame(missing_counts)\n",
        "\n",
        "# Print the missing counts DataFrame\n",
        "print(missing_counts_df)\n",
        "\n",
        "# Print a sample of the missing data DataFrame\n",
        "print(missing_data.head())\n"
      ]
    },
    {
      "cell_type": "code",
      "execution_count": 343,
      "metadata": {
        "id": "nQtP2Le6quCZ"
      },
      "outputs": [],
      "source": [
        "# Extract Hour and Month from MissingDateTime\n",
        "missing_data['MissingDateTime'] = pd.to_datetime(missing_data['MissingDateTime'])\n",
        "missing_data['Hour'] = missing_data['MissingDateTime'].dt.hour\n",
        "missing_data['Month'] = missing_data['MissingDateTime'].dt.month\n",
        "\n",
        "# Extract Hour and Month from DateTime in original std_data\n",
        "std_data['Hour'] = std_data['DateTime'].dt.hour\n",
        "std_data['Month'] = std_data['DateTime'].dt.month\n",
        "\n",
        "# Calculate the average consumption for each LCLid, Month, and Hour\n",
        "avg_consumption = std_data.groupby(['LCLid', 'Month', 'Hour'])['Consumption'].mean().reset_index()\n",
        "avg_consumption.rename(columns={'Consumption': 'AvgConsumption'}, inplace=True)"
      ]
    },
    {
      "cell_type": "code",
      "execution_count": 344,
      "metadata": {
        "id": "UkNBSPnq-BT0"
      },
      "outputs": [],
      "source": [
        "# Merge missing_data with avg_consumption to get the imputed values\n",
        "missing_data = pd.merge(missing_data, avg_consumption, how='left', on=['LCLid', 'Month', 'Hour'])\n",
        "\n",
        "# Rename the AvgConsumption column to Consumption to match original std_data structure\n",
        "missing_data.rename(columns={'AvgConsumption': 'Consumption'}, inplace=True)"
      ]
    },
    {
      "cell_type": "code",
      "execution_count": 345,
      "metadata": {
        "colab": {
          "base_uri": "https://localhost:8080/"
        },
        "id": "cAGRZ7aO3rgw",
        "outputId": "ea099596-c68a-4373-af73-9ac100948fe2"
      },
      "outputs": [
        {
          "output_type": "stream",
          "name": "stdout",
          "text": [
            "No missing values remain after imputation.\n"
          ]
        }
      ],
      "source": [
        "# Check for any remaining missing values\n",
        "remaining_missing = missing_data[missing_data['Consumption'].isnull()]\n",
        "\n",
        "if remaining_missing.empty:\n",
        "    print(\"No missing values remain after imputation.\")\n",
        "else:\n",
        "    print(\"There are still missing values after imputation:\")\n",
        "    print(remaining_missing)"
      ]
    },
    {
      "cell_type": "code",
      "execution_count": 346,
      "metadata": {
        "colab": {
          "base_uri": "https://localhost:8080/"
        },
        "id": "R7wkKtlr-BNK",
        "outputId": "e5fa3b92-fdeb-472d-fccb-2106a385da69"
      },
      "outputs": [
        {
          "output_type": "stream",
          "name": "stdout",
          "text": [
            "             LCLid            DateTime  Consumption  Hour  Month\n",
            "0        MAC000002 2013-01-01 00:00:00        0.219   0.0    1.0\n",
            "1        MAC000002 2013-01-01 00:30:00        0.241   0.0    1.0\n",
            "2        MAC000002 2013-01-01 01:00:00        0.191   1.0    1.0\n",
            "3        MAC000002 2013-01-01 01:30:00        0.235   1.0    1.0\n",
            "4        MAC000002 2013-01-01 02:00:00        0.182   2.0    1.0\n",
            "...            ...                 ...          ...   ...    ...\n",
            "1015945  MAC000068 2014-02-27 22:30:00        0.924  22.0    2.0\n",
            "1015946  MAC000068 2014-02-27 23:00:00        0.876  23.0    2.0\n",
            "1015947  MAC000068 2014-02-27 23:30:00        0.306  23.0    2.0\n",
            "1015948  MAC000068 2014-02-28 00:00:00        0.253   0.0    2.0\n",
            "1015949  MAC000068 2014-02-28 00:00:00        0.253   0.0    2.0\n",
            "\n",
            "[1015950 rows x 5 columns]\n"
          ]
        }
      ],
      "source": [
        "# Call the function and get the imputed DataFrame\n",
        "std_data_imputed = merge_imputed_data(std_data, missing_data)\n",
        "print(std_data_imputed)"
      ]
    },
    {
      "cell_type": "code",
      "execution_count": 347,
      "metadata": {
        "colab": {
          "base_uri": "https://localhost:8080/"
        },
        "id": "GDlnrZdz7IRe",
        "outputId": "a263dbe0-7315-4ad8-f836-306a029b9b12"
      },
      "outputs": [
        {
          "output_type": "execute_result",
          "data": {
            "text/plain": [
              "Index(['LCLid', 'DateTime', 'Consumption', 'Hour', 'Month'], dtype='object')"
            ]
          },
          "metadata": {},
          "execution_count": 347
        }
      ],
      "source": [
        "std_data_imputed.columns"
      ]
    },
    {
      "cell_type": "markdown",
      "metadata": {
        "id": "elLxDvA4IrOy"
      },
      "source": [
        "\n",
        "\n",
        "## **Missing Value imputation for ToU Data**\n",
        "\n"
      ]
    },
    {
      "cell_type": "code",
      "execution_count": 348,
      "metadata": {
        "id": "kKnpaqgdI1vS"
      },
      "outputs": [],
      "source": [
        "tou_data['DateTime'] = pd.to_datetime(tou_data['DateTime'])  # Convert to datetime if not already\n",
        "tou_data['Consumption'] = pd.to_numeric(tou_data['Consumption'], errors='coerce')  # Ensure numeric\n",
        "\n",
        "# Find complete DateTime range\n",
        "min_date = tou_data['DateTime'].min()\n",
        "max_date = tou_data['DateTime'].max()\n",
        "freq = '30min'  # Frequency of 30 minutes\n",
        "\n",
        "all_dates = pd.date_range(start=min_date, end=max_date, freq=freq)"
      ]
    },
    {
      "cell_type": "code",
      "execution_count": 349,
      "metadata": {
        "colab": {
          "base_uri": "https://localhost:8080/"
        },
        "id": "I21h6dQgI9cU",
        "outputId": "43f0f0c0-3fbf-4ff3-d733-96fb94a1933c"
      },
      "outputs": [
        {
          "output_type": "stream",
          "name": "stdout",
          "text": [
            "        LCLid  MissingDaysCount\n",
            "0   MAC000005                 1\n",
            "1   MAC000014                 7\n",
            "2   MAC000015                11\n",
            "3   MAC000017                 2\n",
            "4   MAC000031                 4\n",
            "5   MAC000044                 1\n",
            "6   MAC000046                 1\n",
            "7   MAC000051                 8\n",
            "8   MAC000052                 2\n",
            "9   MAC000064                 1\n",
            "10  MAC000075                 1\n",
            "11  MAC000076                 5\n",
            "12  MAC000082                 1\n",
            "13  MAC000088                 1\n",
            "14  MAC000107                 1\n",
            "15  MAC000109                 2\n",
            "16  MAC000124                 4\n",
            "17  MAC000141                 1\n",
            "18  MAC000158                 6\n",
            "19  MAC000170                 5\n",
            "20  MAC000173                 5\n",
            "21  MAC000186                 5\n",
            "22  MAC000194                 6\n",
            "23  MAC000195                 2\n",
            "24  MAC000198                 1\n",
            "25  MAC000219                 5\n",
            "26  MAC000236                 4\n",
            "27  MAC000247                 4\n",
            "28  MAC000257                 3\n",
            "29  MAC000259                 6\n",
            "30  MAC000261                 2\n",
            "31  MAC000265                 5\n",
            "32  MAC000266                 6\n",
            "33  MAC000278                 2\n",
            "34  MAC000286                 2\n",
            "35  MAC000288                 2\n",
            "36  MAC000290                 2\n",
            "37  MAC000292                 3\n",
            "38  MAC000293                 2\n",
            "39  MAC000328                 4\n",
            "40  MAC000339                 2\n",
            "41  MAC000342                10\n",
            "42  MAC000344                 1\n",
            "       LCLid     MissingDateTime\n",
            "0  MAC000005 2013-04-05 22:30:00\n",
            "1  MAC000014 2013-02-19 08:30:00\n",
            "2  MAC000014 2013-05-25 00:30:00\n",
            "3  MAC000014 2013-05-25 02:00:00\n",
            "4  MAC000014 2013-06-02 01:00:00\n"
          ]
        }
      ],
      "source": [
        "# Initialize an empty DataFrame to store missing data and a list to store missing counts\n",
        "missing_data = pd.DataFrame()\n",
        "missing_counts = []\n",
        "\n",
        "# Identify missing DateTime values for each LCLid and count missing days\n",
        "for lid, group in tou_data.groupby('LCLid'):\n",
        "    existing_dates = pd.to_datetime(group['DateTime'])\n",
        "    missing_dates = pd.Series(all_dates.difference(existing_dates))  # Convert to Pandas Series\n",
        "\n",
        "    if not missing_dates.empty:\n",
        "        # Count unique missing days\n",
        "        missing_days_count = missing_dates.dt.date.nunique()\n",
        "        missing_counts.append({'LCLid': lid, 'MissingDaysCount': missing_days_count})\n",
        "\n",
        "        # Create a DataFrame for the missing rows\n",
        "        missing_rows = pd.DataFrame({\n",
        "            'LCLid': lid,\n",
        "            'MissingDateTime': missing_dates\n",
        "        })\n",
        "        missing_data = pd.concat([missing_data, missing_rows], ignore_index=True)\n",
        "\n",
        "# Convert missing counts to a DataFrame\n",
        "missing_counts_df = pd.DataFrame(missing_counts)\n",
        "\n",
        "# Print the missing counts DataFrame\n",
        "print(missing_counts_df)\n",
        "\n",
        "# Print a sample of the missing data DataFrame\n",
        "print(missing_data.head())\n"
      ]
    },
    {
      "cell_type": "code",
      "execution_count": 350,
      "metadata": {
        "id": "dEsmxduyMgRc"
      },
      "outputs": [],
      "source": [
        "# Extract Hour and Month from MissingDateTime\n",
        "missing_data['MissingDateTime'] = pd.to_datetime(missing_data['MissingDateTime'])\n",
        "missing_data['Hour'] = missing_data['MissingDateTime'].dt.hour\n",
        "missing_data['Month'] = missing_data['MissingDateTime'].dt.month\n",
        "\n",
        "# Extract Hour and Month from DateTime in original std_data\n",
        "tou_data['Hour'] = std_data['DateTime'].dt.hour\n",
        "tou_data['Month'] = std_data['DateTime'].dt.month\n",
        "\n",
        "# Calculate the average consumption for each LCLid, Month, and Hour\n",
        "avg_consumption = tou_data.groupby(['LCLid', 'Month', 'Hour'])['Consumption'].mean().reset_index()\n",
        "avg_consumption.rename(columns={'Consumption': 'AvgConsumption'}, inplace=True)"
      ]
    },
    {
      "cell_type": "code",
      "execution_count": 351,
      "metadata": {
        "id": "5-1NK2jyMfsS"
      },
      "outputs": [],
      "source": [
        "# Merge missing_data with avg_consumption to get the imputed values\n",
        "missing_data = pd.merge(missing_data, avg_consumption, how='left', on=['LCLid', 'Month', 'Hour'])\n",
        "\n",
        "# Rename the AvgConsumption column to Consumption to match original std_data structure\n",
        "missing_data.rename(columns={'AvgConsumption': 'Consumption'}, inplace=True)"
      ]
    },
    {
      "cell_type": "code",
      "execution_count": 352,
      "metadata": {
        "colab": {
          "base_uri": "https://localhost:8080/"
        },
        "id": "rg52EOqbMfda",
        "outputId": "07b1c8f8-4e1c-4b59-a792-7a5486026ead"
      },
      "outputs": [
        {
          "output_type": "stream",
          "name": "stdout",
          "text": [
            "No missing values remain after imputation.\n"
          ]
        }
      ],
      "source": [
        "# Check for any remaining missing values\n",
        "remaining_missing = missing_data[missing_data['Consumption'].isnull()]\n",
        "\n",
        "if remaining_missing.empty:\n",
        "    print(\"No missing values remain after imputation.\")\n",
        "else:\n",
        "    print(\"There are still missing values after imputation:\")\n",
        "    print(remaining_missing)"
      ]
    },
    {
      "cell_type": "code",
      "execution_count": 353,
      "metadata": {
        "colab": {
          "base_uri": "https://localhost:8080/"
        },
        "id": "O7-Xq2IJNgb4",
        "outputId": "9699230c-1700-4f43-d4a3-d716d1ed8000"
      },
      "outputs": [
        {
          "output_type": "stream",
          "name": "stdout",
          "text": [
            "             LCLid            DateTime  Consumption  Hour  Month\n",
            "0        MAC000005 2013-01-01 00:00:00        0.096   0.0    1.0\n",
            "1        MAC000005 2013-01-01 00:30:00        0.111   0.0    1.0\n",
            "2        MAC000005 2013-01-01 01:00:00        0.071   1.0    1.0\n",
            "3        MAC000005 2013-01-01 01:30:00        0.035   1.0    1.0\n",
            "4        MAC000005 2013-01-01 02:00:00        0.035   2.0    1.0\n",
            "...            ...                 ...          ...   ...    ...\n",
            "1015945  MAC000344 2014-02-27 22:30:00        0.188  10.0    2.0\n",
            "1015946  MAC000344 2014-02-27 23:00:00        0.142  10.0    2.0\n",
            "1015947  MAC000344 2014-02-27 23:30:00        0.125  11.0    2.0\n",
            "1015948  MAC000344 2014-02-28 00:00:00        0.151  11.0    2.0\n",
            "1015949  MAC000344 2014-02-28 00:00:00        0.151  12.0    2.0\n",
            "\n",
            "[1015950 rows x 5 columns]\n"
          ]
        }
      ],
      "source": [
        "# Call the function and get the imputed DataFrame\n",
        "tou_data_imputed = merge_imputed_data(tou_data, missing_data)\n",
        "print(tou_data_imputed)"
      ]
    },
    {
      "cell_type": "markdown",
      "metadata": {
        "id": "FEKSez7lKY3a"
      },
      "source": [
        "### **Show a Missing data series graph if necessary**"
      ]
    },
    {
      "cell_type": "markdown",
      "metadata": {
        "id": "LZVaTDRT1zB0"
      },
      "source": [
        "## **Checking for Start and End Datetime for both STD & ToU data**"
      ]
    },
    {
      "cell_type": "code",
      "execution_count": 354,
      "metadata": {
        "colab": {
          "base_uri": "https://localhost:8080/"
        },
        "id": "XzVApULR0OC6",
        "outputId": "f5c867fe-4c48-404b-c974-de2226b41cc9"
      },
      "outputs": [
        {
          "output_type": "stream",
          "name": "stdout",
          "text": [
            "        LCLid        StartDateTime          EndDateTime\n",
            "0   MAC000002  2013-01-01 00:00:00  2014-02-28 00:00:00\n",
            "1   MAC000003  2013-01-01 00:00:00  2014-02-28 00:00:00\n",
            "2   MAC000004  2013-01-01 00:00:00  2014-02-28 00:00:00\n",
            "3   MAC000006  2013-01-01 00:00:00  2014-02-28 00:00:00\n",
            "4   MAC000007  2013-01-01 00:00:00  2014-02-28 00:00:00\n",
            "5   MAC000009  2013-01-01 00:00:00  2014-02-28 00:00:00\n",
            "6   MAC000010  2013-01-01 00:00:00  2014-02-28 00:00:00\n",
            "7   MAC000011  2013-01-01 00:00:00  2014-02-28 00:00:00\n",
            "8   MAC000012  2013-01-01 00:00:00  2014-02-28 00:00:00\n",
            "9   MAC000013  2013-01-01 00:00:00  2014-02-28 00:00:00\n",
            "10  MAC000018  2013-01-01 00:00:00  2014-02-28 00:00:00\n",
            "11  MAC000019  2013-01-01 00:00:00  2014-02-28 00:00:00\n",
            "12  MAC000020  2013-01-01 00:00:00  2014-02-28 00:00:00\n",
            "13  MAC000021  2013-01-01 00:00:00  2014-02-28 00:00:00\n",
            "14  MAC000022  2013-01-01 00:00:00  2014-02-28 00:00:00\n",
            "15  MAC000023  2013-01-01 00:00:00  2014-02-28 00:00:00\n",
            "16  MAC000024  2013-01-01 00:00:00  2014-02-28 00:00:00\n",
            "17  MAC000025  2013-01-01 00:00:00  2014-02-28 00:00:00\n",
            "18  MAC000026  2013-01-01 00:00:00  2014-02-28 00:00:00\n",
            "19  MAC000027  2013-01-01 00:00:00  2014-02-28 00:00:00\n",
            "20  MAC000029  2013-01-01 00:00:00  2014-02-28 00:00:00\n",
            "21  MAC000030  2013-01-01 00:00:00  2014-02-28 00:00:00\n",
            "22  MAC000032  2013-01-01 00:00:00  2014-02-28 00:00:00\n",
            "23  MAC000033  2013-01-01 00:00:00  2014-02-28 00:00:00\n",
            "24  MAC000034  2013-01-01 00:00:00  2014-02-28 00:00:00\n",
            "25  MAC000035  2013-01-01 00:00:00  2014-02-28 00:00:00\n",
            "26  MAC000036  2013-01-01 00:00:00  2014-02-28 00:00:00\n",
            "27  MAC000037  2013-01-01 00:00:00  2014-02-28 00:00:00\n",
            "28  MAC000038  2013-01-01 00:00:00  2014-02-28 00:00:00\n",
            "29  MAC000039  2013-01-01 00:00:00  2014-02-28 00:00:00\n",
            "30  MAC000040  2013-01-01 00:00:00  2014-02-28 00:00:00\n",
            "31  MAC000041  2013-01-01 00:00:00  2014-02-28 00:00:00\n",
            "32  MAC000042  2013-01-01 00:00:00  2014-02-28 00:00:00\n",
            "33  MAC000043  2013-01-01 00:00:00  2014-02-28 00:00:00\n",
            "34  MAC000045  2013-01-01 00:00:00  2014-02-28 00:00:00\n",
            "35  MAC000047  2013-01-01 00:00:00  2014-02-28 00:00:00\n",
            "36  MAC000049  2013-01-01 00:00:00  2014-02-28 00:00:00\n",
            "37  MAC000053  2013-01-01 00:00:00  2014-02-28 00:00:00\n",
            "38  MAC000054  2013-01-01 00:00:00  2014-02-28 00:00:00\n",
            "39  MAC000055  2013-01-01 00:00:00  2014-02-28 00:00:00\n",
            "40  MAC000056  2013-01-01 00:00:00  2014-02-28 00:00:00\n",
            "41  MAC000057  2013-01-01 00:00:00  2014-02-28 00:00:00\n",
            "42  MAC000058  2013-01-01 00:00:00  2014-02-28 00:00:00\n",
            "43  MAC000059  2013-01-01 00:00:00  2014-02-28 00:00:00\n",
            "44  MAC000060  2013-01-01 00:00:00  2014-02-28 00:00:00\n",
            "45  MAC000061  2013-01-01 00:00:00  2014-02-28 00:00:00\n",
            "46  MAC000062  2013-01-01 00:00:00  2014-02-28 00:00:00\n",
            "47  MAC000066  2013-01-01 00:00:00  2014-02-28 00:00:00\n",
            "48  MAC000067  2013-01-01 00:00:00  2014-02-28 00:00:00\n",
            "49  MAC000068  2013-01-01 00:00:00  2014-02-28 00:00:00\n"
          ]
        }
      ],
      "source": [
        "# Group by LCLid and find the minimum and maximum DateTime for each LCLid for STD imputed data\n",
        "std_startend_datetime = std_data_imputed.groupby('LCLid')['DateTime'].agg(['min', 'max']).reset_index()\n",
        "\n",
        "# Rename the columns for better readability\n",
        "std_startend_datetime.columns = ['LCLid', 'StartDateTime', 'EndDateTime']\n",
        "\n",
        "# Ensure that the time component is included in the display\n",
        "std_startend_datetime['StartDateTime'] = std_startend_datetime['StartDateTime'].dt.strftime('%Y-%m-%d %H:%M:%S')\n",
        "std_startend_datetime['EndDateTime'] = std_startend_datetime['EndDateTime'].dt.strftime('%Y-%m-%d %H:%M:%S')\n",
        "\n",
        "# Print the start and end DateTime for each LCLid\n",
        "print(std_startend_datetime)"
      ]
    },
    {
      "cell_type": "code",
      "execution_count": 355,
      "metadata": {
        "colab": {
          "base_uri": "https://localhost:8080/"
        },
        "id": "pGRqu7qD2SFK",
        "outputId": "c81db36d-162e-4bc6-9b51-83d8d14ef253"
      },
      "outputs": [
        {
          "output_type": "stream",
          "name": "stdout",
          "text": [
            "        LCLid        StartDateTime          EndDateTime\n",
            "0   MAC000005  2013-01-01 00:00:00  2014-02-28 00:00:00\n",
            "1   MAC000014  2013-01-01 00:00:00  2014-02-28 00:00:00\n",
            "2   MAC000015  2013-01-01 00:00:00  2014-02-28 00:00:00\n",
            "3   MAC000017  2013-01-01 00:00:00  2014-02-28 00:00:00\n",
            "4   MAC000031  2013-01-01 00:00:00  2014-02-28 00:00:00\n",
            "5   MAC000044  2013-01-01 00:00:00  2014-02-28 00:00:00\n",
            "6   MAC000046  2013-01-01 00:00:00  2014-02-28 00:00:00\n",
            "7   MAC000048  2013-01-01 00:00:00  2014-02-28 00:00:00\n",
            "8   MAC000051  2013-01-01 00:00:00  2014-02-28 00:00:00\n",
            "9   MAC000052  2013-01-01 00:00:00  2014-02-28 00:00:00\n",
            "10  MAC000064  2013-01-01 00:00:00  2014-02-28 00:00:00\n",
            "11  MAC000075  2013-01-01 00:00:00  2014-02-28 00:00:00\n",
            "12  MAC000076  2013-01-01 00:00:00  2014-02-28 00:00:00\n",
            "13  MAC000082  2013-01-01 00:00:00  2014-02-28 00:00:00\n",
            "14  MAC000088  2013-01-01 00:00:00  2014-02-28 00:00:00\n",
            "15  MAC000106  2013-01-01 00:00:00  2014-02-28 00:00:00\n",
            "16  MAC000107  2013-01-01 00:00:00  2014-02-28 00:00:00\n",
            "17  MAC000109  2013-01-01 00:00:00  2014-02-28 00:00:00\n",
            "18  MAC000124  2013-01-01 00:00:00  2014-02-28 00:00:00\n",
            "19  MAC000141  2013-01-01 00:00:00  2014-02-28 00:00:00\n",
            "20  MAC000147  2013-01-01 00:00:00  2014-02-28 00:00:00\n",
            "21  MAC000158  2013-01-01 00:00:00  2014-02-28 00:00:00\n",
            "22  MAC000165  2013-01-01 00:00:00  2014-02-28 00:00:00\n",
            "23  MAC000170  2013-01-01 00:00:00  2014-02-28 00:00:00\n",
            "24  MAC000173  2013-01-01 00:00:00  2014-02-28 00:00:00\n",
            "25  MAC000186  2013-01-01 00:00:00  2014-02-28 00:00:00\n",
            "26  MAC000187  2013-01-01 00:00:00  2014-02-28 00:00:00\n",
            "27  MAC000193  2013-01-01 00:00:00  2014-02-28 00:00:00\n",
            "28  MAC000194  2013-01-01 00:00:00  2014-02-28 00:00:00\n",
            "29  MAC000195  2013-01-01 00:00:00  2014-02-28 00:00:00\n",
            "30  MAC000198  2013-01-01 00:00:00  2014-02-28 00:00:00\n",
            "31  MAC000219  2013-01-01 00:00:00  2014-02-28 00:00:00\n",
            "32  MAC000236  2013-01-01 00:00:00  2014-02-28 00:00:00\n",
            "33  MAC000247  2013-01-01 00:00:00  2014-02-28 00:00:00\n",
            "34  MAC000257  2013-01-01 00:00:00  2014-02-28 00:00:00\n",
            "35  MAC000259  2013-01-01 00:00:00  2014-02-28 00:00:00\n",
            "36  MAC000261  2013-01-01 00:00:00  2014-02-28 00:00:00\n",
            "37  MAC000265  2013-01-01 00:00:00  2014-02-28 00:00:00\n",
            "38  MAC000266  2013-01-01 00:00:00  2014-02-28 00:00:00\n",
            "39  MAC000278  2013-01-01 00:00:00  2014-02-28 00:00:00\n",
            "40  MAC000286  2013-01-01 00:00:00  2014-02-28 00:00:00\n",
            "41  MAC000288  2013-01-01 00:00:00  2014-02-28 00:00:00\n",
            "42  MAC000290  2013-01-01 00:00:00  2014-02-28 00:00:00\n",
            "43  MAC000292  2013-01-01 00:00:00  2014-02-28 00:00:00\n",
            "44  MAC000293  2013-01-01 00:00:00  2014-02-28 00:00:00\n",
            "45  MAC000303  2013-01-01 00:00:00  2014-02-28 00:00:00\n",
            "46  MAC000328  2013-01-01 00:00:00  2014-02-28 00:00:00\n",
            "47  MAC000339  2013-01-01 00:00:00  2014-02-28 00:00:00\n",
            "48  MAC000342  2013-01-01 00:00:00  2014-02-28 00:00:00\n",
            "49  MAC000344  2013-01-01 00:00:00  2014-02-28 00:00:00\n"
          ]
        }
      ],
      "source": [
        "# Group by LCLid and find the minimum and maximum DateTime for each LCLid for ToU imputed data\n",
        "tou_startend_datetime = tou_data_imputed.groupby('LCLid')['DateTime'].agg(['min', 'max']).reset_index()\n",
        "\n",
        "# Rename the columns for better readability\n",
        "tou_startend_datetime.columns = ['LCLid', 'StartDateTime', 'EndDateTime']\n",
        "\n",
        "# Ensure that the time component is included in the display\n",
        "tou_startend_datetime['StartDateTime'] = tou_startend_datetime['StartDateTime'].dt.strftime('%Y-%m-%d %H:%M:%S')\n",
        "tou_startend_datetime['EndDateTime'] = tou_startend_datetime['EndDateTime'].dt.strftime('%Y-%m-%d %H:%M:%S')\n",
        "\n",
        "# Print the start and end DateTime for each LCLid\n",
        "print(tou_startend_datetime)"
      ]
    },
    {
      "cell_type": "markdown",
      "metadata": {
        "id": "D8msNEvk3BHI"
      },
      "source": [
        "### **Table shows that we dont have the whole 48 hr record for 28-02-2014 Hence it needs to omitted from the respective data frame.**"
      ]
    },
    {
      "cell_type": "code",
      "execution_count": 356,
      "metadata": {
        "id": "vGXSq9sX8MbK"
      },
      "outputs": [],
      "source": [
        "# Removing the Rows where Datetime is 28-02-2014\n",
        "std_data_imputed = std_data_imputed[std_data_imputed['DateTime'] != '2014-02-28']\n",
        "tou_data_imputed = tou_data_imputed[tou_data_imputed['DateTime'] != '2014-02-28']"
      ]
    },
    {
      "cell_type": "code",
      "execution_count": 357,
      "metadata": {
        "colab": {
          "base_uri": "https://localhost:8080/"
        },
        "id": "Qp54QW601JjY",
        "outputId": "827cce71-101b-42af-b35c-14c5cfc2f408"
      },
      "outputs": [
        {
          "output_type": "execute_result",
          "data": {
            "text/plain": [
              "Index(['LCLid', 'DateTime', 'Consumption', 'Hour', 'Month'], dtype='object')"
            ]
          },
          "metadata": {},
          "execution_count": 357
        }
      ],
      "source": [
        "std_data_imputed.columns"
      ]
    },
    {
      "cell_type": "markdown",
      "metadata": {
        "id": "BfaIsZLUTymO"
      },
      "source": [
        "##**Checking for Outliers**"
      ]
    },
    {
      "cell_type": "code",
      "execution_count": 358,
      "metadata": {
        "id": "J4F9CI7y2D0p"
      },
      "outputs": [],
      "source": [
        "std_total = std_data_imputed.groupby('LCLid')['Consumption'].sum().reset_index()\n",
        "tou_total = tou_data_imputed.groupby('LCLid')['Consumption'].sum().reset_index()"
      ]
    },
    {
      "cell_type": "code",
      "execution_count": 359,
      "metadata": {
        "id": "vagboMzM2X-P"
      },
      "outputs": [],
      "source": [
        "std_total.columns = ['LCLid', 'TotalConsumption']\n",
        "tou_total.columns = ['LCLid', 'TotalConsumption']"
      ]
    },
    {
      "cell_type": "code",
      "execution_count": 360,
      "metadata": {
        "colab": {
          "base_uri": "https://localhost:8080/",
          "height": 1000
        },
        "id": "W9KNkLhR9egl",
        "outputId": "287ffe4a-e53e-4be5-99fe-801182f5d69e"
      },
      "outputs": [
        {
          "output_type": "stream",
          "name": "stdout",
          "text": [
            "Unique outliers:\n",
            "        LCLid  TotalConsumption\n",
            "6   MAC000010      11000.233997\n",
            "24  MAC000034      11933.799486\n",
            "30  MAC000040      13429.052001\n",
            "36  MAC000049      14920.786002\n"
          ]
        },
        {
          "output_type": "display_data",
          "data": {
            "text/plain": [
              "<Figure size 1200x600 with 1 Axes>"
            ],
            "image/png": "[encoded data removed]"
          },
          "metadata": {}
        },
        {
          "output_type": "stream",
          "name": "stdout",
          "text": [
            "Unique outliers:\n",
            "        LCLid  TotalConsumption\n",
            "34  MAC000257      11525.505647\n"
          ]
        },
        {
          "output_type": "display_data",
          "data": {
            "text/plain": [
              "<Figure size 1200x600 with 1 Axes>"
            ],
            "image/png": "[encoded data removed]"
          },
          "metadata": {}
        }
      ],
      "source": [
        "# Identify outliers for STD using the IQR method\n",
        "std_outliers = identify_outliers_iqr(std_total)\n",
        "\n",
        "# Identify outliers for ToU using the IQR method\n",
        "tou_outliers = identify_outliers_iqr(tou_total)\n",
        "\n",
        "# Plot the example distribution with a custom title\n",
        "std_outlier_lclid = plot_total_consumption_distribution(std_total, std_outliers, 'Total Consumption Distribution for STD')\n",
        "\n",
        "# Plot the example distribution with a custom title\n",
        "tou_outlier_lclid = plot_total_consumption_distribution(tou_total, tou_outliers, 'Total Consumption Distribution for ToU')\n"
      ]
    },
    {
      "cell_type": "markdown",
      "metadata": {
        "id": "h89JPY_YsCtq"
      },
      "source": [
        "###**Plot the Graphs for Outliers present in STD & ToU**"
      ]
    },
    {
      "cell_type": "code",
      "execution_count": 360,
      "metadata": {
        "id": "tjO9TBF4YBNA"
      },
      "outputs": [],
      "source": []
    },
    {
      "cell_type": "markdown",
      "metadata": {
        "id": "yQH9_rZ_Gk-B"
      },
      "source": [
        "## **Loading Weather Data**"
      ]
    },
    {
      "cell_type": "code",
      "execution_count": 361,
      "metadata": {
        "id": "Rwmas7s9OOey"
      },
      "outputs": [],
      "source": [
        "weather_data = pd.read_csv('/content/drive/MyDrive/open-meteo-51.49N0.16W23m (1).csv', skiprows=3)"
      ]
    },
    {
      "cell_type": "code",
      "execution_count": 362,
      "metadata": {
        "colab": {
          "base_uri": "https://localhost:8080/",
          "height": 206
        },
        "id": "gUtFOdPlOOTW",
        "outputId": "53ba90c3-e2c0-405a-a313-094b85fa6615"
      },
      "outputs": [
        {
          "output_type": "execute_result",
          "data": {
            "text/plain": [
              "               time temperature_2m (°C)\n",
              "0  2010-01-01T00:00                 0.4\n",
              "1  2010-01-01T01:00                 0.3\n",
              "2  2010-01-01T02:00                 0.1\n",
              "3  2010-01-01T03:00                -0.2\n",
              "4  2010-01-01T04:00                -0.4"
            ],
            "text/html": [
              "\n",
              "  <div id=\"df-2ceb015c-228d-46f7-815d-484775315a75\" class=\"colab-df-container\">\n",
              "    <div>\n",
              "<style scoped>\n",
              "    .dataframe tbody tr th:only-of-type {\n",
              "        vertical-align: middle;\n",
              "    }\n",
              "\n",
              "    .dataframe tbody tr th {\n",
              "        vertical-align: top;\n",
              "    }\n",
              "\n",
              "    .dataframe thead th {\n",
              "        text-align: right;\n",
              "    }\n",
              "</style>\n",
              "<table border=\"1\" class=\"dataframe\">\n",
              "  <thead>\n",
              "    <tr style=\"text-align: right;\">\n",
              "      <th></th>\n",
              "      <th>time</th>\n",
              "      <th>temperature_2m (°C)</th>\n",
              "    </tr>\n",
              "  </thead>\n",
              "  <tbody>\n",
              "    <tr>\n",
              "      <th>0</th>\n",
              "      <td>2010-01-01T00:00</td>\n",
              "      <td>0.4</td>\n",
              "    </tr>\n",
              "    <tr>\n",
              "      <th>1</th>\n",
              "      <td>2010-01-01T01:00</td>\n",
              "      <td>0.3</td>\n",
              "    </tr>\n",
              "    <tr>\n",
              "      <th>2</th>\n",
              "      <td>2010-01-01T02:00</td>\n",
              "      <td>0.1</td>\n",
              "    </tr>\n",
              "    <tr>\n",
              "      <th>3</th>\n",
              "      <td>2010-01-01T03:00</td>\n",
              "      <td>-0.2</td>\n",
              "    </tr>\n",
              "    <tr>\n",
              "      <th>4</th>\n",
              "      <td>2010-01-01T04:00</td>\n",
              "      <td>-0.4</td>\n",
              "    </tr>\n",
              "  </tbody>\n",
              "</table>\n",
              "</div>\n",
              "    <div class=\"colab-df-buttons\">\n",
              "\n",
              "  <div class=\"colab-df-container\">\n",
              "    <button class=\"colab-df-convert\" onclick=\"convertToInteractive('df-2ceb015c-228d-46f7-815d-484775315a75')\"\n",
              "            title=\"Convert this dataframe to an interactive table.\"\n",
              "            style=\"display:none;\">\n",
              "\n",
              "  <svg xmlns=\"http://www.w3.org/2000/svg\" height=\"24px\" viewBox=\"0 -960 960 960\">\n",
              "    <path d=\"M120-120v-720h720v720H120Zm60-500h600v-160H180v160Zm220 220h160v-160H400v160Zm0 220h160v-160H400v160ZM180-400h160v-160H180v160Zm440 0h160v-160H620v160ZM180-180h160v-160H180v160Zm440 0h160v-160H620v160Z\"/>\n",
              "  </svg>\n",
              "    </button>\n",
              "\n",
              "  <style>\n",
              "    .colab-df-container {\n",
              "      display:flex;\n",
              "      gap: 12px;\n",
              "    }\n",
              "\n",
              "    .colab-df-convert {\n",
              "      background-color: #E8F0FE;\n",
              "      border: none;\n",
              "      border-radius: 50%;\n",
              "      cursor: pointer;\n",
              "      display: none;\n",
              "      fill: #1967D2;\n",
              "      height: 32px;\n",
              "      padding: 0 0 0 0;\n",
              "      width: 32px;\n",
              "    }\n",
              "\n",
              "    .colab-df-convert:hover {\n",
              "      background-color: #E2EBFA;\n",
              "      box-shadow: 0px 1px 2px rgba(60, 64, 67, 0.3), 0px 1px 3px 1px rgba(60, 64, 67, 0.15);\n",
              "      fill: #174EA6;\n",
              "    }\n",
              "\n",
              "    .colab-df-buttons div {\n",
              "      margin-bottom: 4px;\n",
              "    }\n",
              "\n",
              "    [theme=dark] .colab-df-convert {\n",
              "      background-color: #3B4455;\n",
              "      fill: #D2E3FC;\n",
              "    }\n",
              "\n",
              "    [theme=dark] .colab-df-convert:hover {\n",
              "      background-color: #434B5C;\n",
              "      box-shadow: 0px 1px 3px 1px rgba(0, 0, 0, 0.15);\n",
              "      filter: drop-shadow(0px 1px 2px rgba(0, 0, 0, 0.3));\n",
              "      fill: #FFFFFF;\n",
              "    }\n",
              "  </style>\n",
              "\n",
              "    <script>\n",
              "      const buttonEl =\n",
              "        document.querySelector('#df-2ceb015c-228d-46f7-815d-484775315a75 button.colab-df-convert');\n",
              "      buttonEl.style.display =\n",
              "        google.colab.kernel.accessAllowed ? 'block' : 'none';\n",
              "\n",
              "      async function convertToInteractive(key) {\n",
              "        const element = document.querySelector('#df-2ceb015c-228d-46f7-815d-484775315a75');\n",
              "        const dataTable =\n",
              "          await google.colab.kernel.invokeFunction('convertToInteractive',\n",
              "                                                    [key], {});\n",
              "        if (!dataTable) return;\n",
              "\n",
              "        const docLinkHtml = 'Like what you see? Visit the ' +\n",
              "          '<a target=\"_blank\" href=https://colab.research.google.com/notebooks/data_table.ipynb>data table notebook</a>'\n",
              "          + ' to learn more about interactive tables.';\n",
              "        element.innerHTML = '';\n",
              "        dataTable['output_type'] = 'display_data';\n",
              "        await google.colab.output.renderOutput(dataTable, element);\n",
              "        const docLink = document.createElement('div');\n",
              "        docLink.innerHTML = docLinkHtml;\n",
              "        element.appendChild(docLink);\n",
              "      }\n",
              "    </script>\n",
              "  </div>\n",
              "\n",
              "\n",
              "<div id=\"df-a2622177-535c-4aa1-8b12-553d8fd1a966\">\n",
              "  <button class=\"colab-df-quickchart\" onclick=\"quickchart('df-a2622177-535c-4aa1-8b12-553d8fd1a966')\"\n",
              "            title=\"Suggest charts\"\n",
              "            style=\"display:none;\">\n",
              "\n",
              "<svg xmlns=\"http://www.w3.org/2000/svg\" height=\"24px\"viewBox=\"0 0 24 24\"\n",
              "     width=\"24px\">\n",
              "    <g>\n",
              "        <path d=\"M19 3H5c-1.1 0-2 .9-2 2v14c0 1.1.9 2 2 2h14c1.1 0 2-.9 2-2V5c0-1.1-.9-2-2-2zM9 17H7v-7h2v7zm4 0h-2V7h2v10zm4 0h-2v-4h2v4z\"/>\n",
              "    </g>\n",
              "</svg>\n",
              "  </button>\n",
              "\n",
              "<style>\n",
              "  .colab-df-quickchart {\n",
              "      --bg-color: #E8F0FE;\n",
              "      --fill-color: #1967D2;\n",
              "      --hover-bg-color: #E2EBFA;\n",
              "      --hover-fill-color: #174EA6;\n",
              "      --disabled-fill-color: #AAA;\n",
              "      --disabled-bg-color: #DDD;\n",
              "  }\n",
              "\n",
              "  [theme=dark] .colab-df-quickchart {\n",
              "      --bg-color: #3B4455;\n",
              "      --fill-color: #D2E3FC;\n",
              "      --hover-bg-color: #434B5C;\n",
              "      --hover-fill-color: #FFFFFF;\n",
              "      --disabled-bg-color: #3B4455;\n",
              "      --disabled-fill-color: #666;\n",
              "  }\n",
              "\n",
              "  .colab-df-quickchart {\n",
              "    background-color: var(--bg-color);\n",
              "    border: none;\n",
              "    border-radius: 50%;\n",
              "    cursor: pointer;\n",
              "    display: none;\n",
              "    fill: var(--fill-color);\n",
              "    height: 32px;\n",
              "    padding: 0;\n",
              "    width: 32px;\n",
              "  }\n",
              "\n",
              "  .colab-df-quickchart:hover {\n",
              "    background-color: var(--hover-bg-color);\n",
              "    box-shadow: 0 1px 2px rgba(60, 64, 67, 0.3), 0 1px 3px 1px rgba(60, 64, 67, 0.15);\n",
              "    fill: var(--button-hover-fill-color);\n",
              "  }\n",
              "\n",
              "  .colab-df-quickchart-complete:disabled,\n",
              "  .colab-df-quickchart-complete:disabled:hover {\n",
              "    background-color: var(--disabled-bg-color);\n",
              "    fill: var(--disabled-fill-color);\n",
              "    box-shadow: none;\n",
              "  }\n",
              "\n",
              "  .colab-df-spinner {\n",
              "    border: 2px solid var(--fill-color);\n",
              "    border-color: transparent;\n",
              "    border-bottom-color: var(--fill-color);\n",
              "    animation:\n",
              "      spin 1s steps(1) infinite;\n",
              "  }\n",
              "\n",
              "  @keyframes spin {\n",
              "    0% {\n",
              "      border-color: transparent;\n",
              "      border-bottom-color: var(--fill-color);\n",
              "      border-left-color: var(--fill-color);\n",
              "    }\n",
              "    20% {\n",
              "      border-color: transparent;\n",
              "      border-left-color: var(--fill-color);\n",
              "      border-top-color: var(--fill-color);\n",
              "    }\n",
              "    30% {\n",
              "      border-color: transparent;\n",
              "      border-left-color: var(--fill-color);\n",
              "      border-top-color: var(--fill-color);\n",
              "      border-right-color: var(--fill-color);\n",
              "    }\n",
              "    40% {\n",
              "      border-color: transparent;\n",
              "      border-right-color: var(--fill-color);\n",
              "      border-top-color: var(--fill-color);\n",
              "    }\n",
              "    60% {\n",
              "      border-color: transparent;\n",
              "      border-right-color: var(--fill-color);\n",
              "    }\n",
              "    80% {\n",
              "      border-color: transparent;\n",
              "      border-right-color: var(--fill-color);\n",
              "      border-bottom-color: var(--fill-color);\n",
              "    }\n",
              "    90% {\n",
              "      border-color: transparent;\n",
              "      border-bottom-color: var(--fill-color);\n",
              "    }\n",
              "  }\n",
              "</style>\n",
              "\n",
              "  <script>\n",
              "    async function quickchart(key) {\n",
              "      const quickchartButtonEl =\n",
              "        document.querySelector('#' + key + ' button');\n",
              "      quickchartButtonEl.disabled = true;  // To prevent multiple clicks.\n",
              "      quickchartButtonEl.classList.add('colab-df-spinner');\n",
              "      try {\n",
              "        const charts = await google.colab.kernel.invokeFunction(\n",
              "            'suggestCharts', [key], {});\n",
              "      } catch (error) {\n",
              "        console.error('Error during call to suggestCharts:', error);\n",
              "      }\n",
              "      quickchartButtonEl.classList.remove('colab-df-spinner');\n",
              "      quickchartButtonEl.classList.add('colab-df-quickchart-complete');\n",
              "    }\n",
              "    (() => {\n",
              "      let quickchartButtonEl =\n",
              "        document.querySelector('#df-a2622177-535c-4aa1-8b12-553d8fd1a966 button');\n",
              "      quickchartButtonEl.style.display =\n",
              "        google.colab.kernel.accessAllowed ? 'block' : 'none';\n",
              "    })();\n",
              "  </script>\n",
              "</div>\n",
              "\n",
              "    </div>\n",
              "  </div>\n"
            ],
            "application/vnd.google.colaboratory.intrinsic+json": {
              "type": "dataframe",
              "variable_name": "weather_data",
              "summary": "{\n  \"name\": \"weather_data\",\n  \"rows\": 91301,\n  \"fields\": [\n    {\n      \"column\": \"time\",\n      \"properties\": {\n        \"dtype\": \"string\",\n        \"num_unique_values\": 91301,\n        \"samples\": [\n          \"2015-03-30T07:00\",\n          \"2011-03-28T11:00\",\n          \"2016-03-05T04:00\"\n        ],\n        \"semantic_type\": \"\",\n        \"description\": \"\"\n      }\n    },\n    {\n      \"column\": \"temperature_2m (\\u00b0C)\",\n      \"properties\": {\n        \"dtype\": \"category\",\n        \"num_unique_values\": 419,\n        \"samples\": [\n          \"16.3\",\n          \"17.3\",\n          \"13.8\"\n        ],\n        \"semantic_type\": \"\",\n        \"description\": \"\"\n      }\n    }\n  ]\n}"
            }
          },
          "metadata": {},
          "execution_count": 362
        }
      ],
      "source": [
        "weather_data.head()"
      ]
    },
    {
      "cell_type": "code",
      "execution_count": 363,
      "metadata": {
        "colab": {
          "base_uri": "https://localhost:8080/"
        },
        "id": "SPZDi3IpOOJM",
        "outputId": "d45eb631-6b6b-4e2a-f347-8045b4f0a459"
      },
      "outputs": [
        {
          "output_type": "stream",
          "name": "stdout",
          "text": [
            "               time temperature_2m (°C)\n",
            "0  2013-01-01 00:00                 8.6\n",
            "1  2013-01-01 01:00                 8.3\n",
            "2  2013-01-01 02:00                 7.5\n",
            "3  2013-01-01 03:00                 6.8\n",
            "4  2013-01-01 04:00                 5.9\n"
          ]
        },
        {
          "output_type": "stream",
          "name": "stderr",
          "text": [
            "<ipython-input-363-48dcf8a3d51b>:16: SettingWithCopyWarning: \n",
            "A value is trying to be set on a copy of a slice from a DataFrame.\n",
            "Try using .loc[row_indexer,col_indexer] = value instead\n",
            "\n",
            "See the caveats in the documentation: https://pandas.pydata.org/pandas-docs/stable/user_guide/indexing.html#returning-a-view-versus-a-copy\n",
            "  filtered_weather_data['time'] = filtered_weather_data['time'].dt.strftime(\"%Y-%m-%d %H:%M\")\n"
          ]
        }
      ],
      "source": [
        "# Convert 'time' column to datetime objects, coerce errors to handle inconsistencies\n",
        "weather_data['time'] = pd.to_datetime(weather_data['time'], errors='coerce')\n",
        "\n",
        "# Drop rows with NaT in 'time' column (result of conversion errors)\n",
        "weather_data = weather_data.dropna(subset=['time'])\n",
        "\n",
        "# Filter the DataFrame for the specified date range\n",
        "start_date = \"2013-01-01\"\n",
        "end_date = \"2014-02-28\"\n",
        "mask = (weather_data['time'] >= start_date) & (weather_data['time'] <= end_date)\n",
        "filtered_weather_data = weather_data.loc[mask]\n",
        "filtered_weather_data.reset_index(drop=True, inplace=True)\n",
        "\n",
        "# Display the filtered DataFrame\n",
        "# Format the 'time' column to the desired format without the \"T\"\n",
        "filtered_weather_data['time'] = filtered_weather_data['time'].dt.strftime(\"%Y-%m-%d %H:%M\")\n",
        "\n",
        "# Display the filtered and formatted DataFrame\n",
        "print(filtered_weather_data.head())\n"
      ]
    },
    {
      "cell_type": "code",
      "execution_count": 364,
      "metadata": {
        "id": "pnxJdz6qzG1V"
      },
      "outputs": [],
      "source": [
        "filtered_weather_data.to_csv('filtered_weather_data.csv')"
      ]
    },
    {
      "cell_type": "code",
      "execution_count": 364,
      "metadata": {
        "id": "-zM1Om88ON9f"
      },
      "outputs": [],
      "source": []
    },
    {
      "cell_type": "code",
      "execution_count": 364,
      "metadata": {
        "id": "Ap05y4ry6ftZ"
      },
      "outputs": [],
      "source": []
    },
    {
      "cell_type": "code",
      "execution_count": 364,
      "metadata": {
        "id": "sHpQZEKzONzk"
      },
      "outputs": [],
      "source": []
    },
    {
      "cell_type": "code",
      "execution_count": null,
      "metadata": {
        "id": "JE6I5k0yONgx"
      },
      "outputs": [],
      "source": []
    },
    {
      "cell_type": "markdown",
      "metadata": {
        "id": "JBP-GnftNwlu"
      },
      "source": [
        "# **EDA**"
      ]
    },
    {
      "cell_type": "code",
      "execution_count": 365,
      "metadata": {
        "id": "P2vzNff2N00e"
      },
      "outputs": [],
      "source": [
        "std_data_clean = std_data_imputed.copy()"
      ]
    },
    {
      "cell_type": "code",
      "source": [
        "std_data_clean"
      ],
      "metadata": {
        "colab": {
          "base_uri": "https://localhost:8080/",
          "height": 424
        },
        "id": "QEUrvMjLfzxN",
        "outputId": "446f13f0-25f4-4698-cc96-fc263850bca4"
      },
      "execution_count": 366,
      "outputs": [
        {
          "output_type": "execute_result",
          "data": {
            "text/plain": [
              "             LCLid            DateTime  Consumption  Hour  Month\n",
              "0        MAC000002 2013-01-01 00:00:00        0.219   0.0    1.0\n",
              "1        MAC000002 2013-01-01 00:30:00        0.241   0.0    1.0\n",
              "2        MAC000002 2013-01-01 01:00:00        0.191   1.0    1.0\n",
              "3        MAC000002 2013-01-01 01:30:00        0.235   1.0    1.0\n",
              "4        MAC000002 2013-01-01 02:00:00        0.182   2.0    1.0\n",
              "...            ...                 ...          ...   ...    ...\n",
              "1015943  MAC000068 2014-02-27 21:30:00        0.458  21.0    2.0\n",
              "1015944  MAC000068 2014-02-27 22:00:00        0.538  22.0    2.0\n",
              "1015945  MAC000068 2014-02-27 22:30:00        0.924  22.0    2.0\n",
              "1015946  MAC000068 2014-02-27 23:00:00        0.876  23.0    2.0\n",
              "1015947  MAC000068 2014-02-27 23:30:00        0.306  23.0    2.0\n",
              "\n",
              "[1015850 rows x 5 columns]"
            ],
            "text/html": [
              "\n",
              "  <div id=\"df-6e0c287c-6c3e-4dd3-baf8-8d3aebf30623\" class=\"colab-df-container\">\n",
              "    <div>\n",
              "<style scoped>\n",
              "    .dataframe tbody tr th:only-of-type {\n",
              "        vertical-align: middle;\n",
              "    }\n",
              "\n",
              "    .dataframe tbody tr th {\n",
              "        vertical-align: top;\n",
              "    }\n",
              "\n",
              "    .dataframe thead th {\n",
              "        text-align: right;\n",
              "    }\n",
              "</style>\n",
              "<table border=\"1\" class=\"dataframe\">\n",
              "  <thead>\n",
              "    <tr style=\"text-align: right;\">\n",
              "      <th></th>\n",
              "      <th>LCLid</th>\n",
              "      <th>DateTime</th>\n",
              "      <th>Consumption</th>\n",
              "      <th>Hour</th>\n",
              "      <th>Month</th>\n",
              "    </tr>\n",
              "  </thead>\n",
              "  <tbody>\n",
              "    <tr>\n",
              "      <th>0</th>\n",
              "      <td>MAC000002</td>\n",
              "      <td>2013-01-01 00:00:00</td>\n",
              "      <td>0.219</td>\n",
              "      <td>0.0</td>\n",
              "      <td>1.0</td>\n",
              "    </tr>\n",
              "    <tr>\n",
              "      <th>1</th>\n",
              "      <td>MAC000002</td>\n",
              "      <td>2013-01-01 00:30:00</td>\n",
              "      <td>0.241</td>\n",
              "      <td>0.0</td>\n",
              "      <td>1.0</td>\n",
              "    </tr>\n",
              "    <tr>\n",
              "      <th>2</th>\n",
              "      <td>MAC000002</td>\n",
              "      <td>2013-01-01 01:00:00</td>\n",
              "      <td>0.191</td>\n",
              "      <td>1.0</td>\n",
              "      <td>1.0</td>\n",
              "    </tr>\n",
              "    <tr>\n",
              "      <th>3</th>\n",
              "      <td>MAC000002</td>\n",
              "      <td>2013-01-01 01:30:00</td>\n",
              "      <td>0.235</td>\n",
              "      <td>1.0</td>\n",
              "      <td>1.0</td>\n",
              "    </tr>\n",
              "    <tr>\n",
              "      <th>4</th>\n",
              "      <td>MAC000002</td>\n",
              "      <td>2013-01-01 02:00:00</td>\n",
              "      <td>0.182</td>\n",
              "      <td>2.0</td>\n",
              "      <td>1.0</td>\n",
              "    </tr>\n",
              "    <tr>\n",
              "      <th>...</th>\n",
              "      <td>...</td>\n",
              "      <td>...</td>\n",
              "      <td>...</td>\n",
              "      <td>...</td>\n",
              "      <td>...</td>\n",
              "    </tr>\n",
              "    <tr>\n",
              "      <th>1015943</th>\n",
              "      <td>MAC000068</td>\n",
              "      <td>2014-02-27 21:30:00</td>\n",
              "      <td>0.458</td>\n",
              "      <td>21.0</td>\n",
              "      <td>2.0</td>\n",
              "    </tr>\n",
              "    <tr>\n",
              "      <th>1015944</th>\n",
              "      <td>MAC000068</td>\n",
              "      <td>2014-02-27 22:00:00</td>\n",
              "      <td>0.538</td>\n",
              "      <td>22.0</td>\n",
              "      <td>2.0</td>\n",
              "    </tr>\n",
              "    <tr>\n",
              "      <th>1015945</th>\n",
              "      <td>MAC000068</td>\n",
              "      <td>2014-02-27 22:30:00</td>\n",
              "      <td>0.924</td>\n",
              "      <td>22.0</td>\n",
              "      <td>2.0</td>\n",
              "    </tr>\n",
              "    <tr>\n",
              "      <th>1015946</th>\n",
              "      <td>MAC000068</td>\n",
              "      <td>2014-02-27 23:00:00</td>\n",
              "      <td>0.876</td>\n",
              "      <td>23.0</td>\n",
              "      <td>2.0</td>\n",
              "    </tr>\n",
              "    <tr>\n",
              "      <th>1015947</th>\n",
              "      <td>MAC000068</td>\n",
              "      <td>2014-02-27 23:30:00</td>\n",
              "      <td>0.306</td>\n",
              "      <td>23.0</td>\n",
              "      <td>2.0</td>\n",
              "    </tr>\n",
              "  </tbody>\n",
              "</table>\n",
              "<p>1015850 rows × 5 columns</p>\n",
              "</div>\n",
              "    <div class=\"colab-df-buttons\">\n",
              "\n",
              "  <div class=\"colab-df-container\">\n",
              "    <button class=\"colab-df-convert\" onclick=\"convertToInteractive('df-6e0c287c-6c3e-4dd3-baf8-8d3aebf30623')\"\n",
              "            title=\"Convert this dataframe to an interactive table.\"\n",
              "            style=\"display:none;\">\n",
              "\n",
              "  <svg xmlns=\"http://www.w3.org/2000/svg\" height=\"24px\" viewBox=\"0 -960 960 960\">\n",
              "    <path d=\"M120-120v-720h720v720H120Zm60-500h600v-160H180v160Zm220 220h160v-160H400v160Zm0 220h160v-160H400v160ZM180-400h160v-160H180v160Zm440 0h160v-160H620v160ZM180-180h160v-160H180v160Zm440 0h160v-160H620v160Z\"/>\n",
              "  </svg>\n",
              "    </button>\n",
              "\n",
              "  <style>\n",
              "    .colab-df-container {\n",
              "      display:flex;\n",
              "      gap: 12px;\n",
              "    }\n",
              "\n",
              "    .colab-df-convert {\n",
              "      background-color: #E8F0FE;\n",
              "      border: none;\n",
              "      border-radius: 50%;\n",
              "      cursor: pointer;\n",
              "      display: none;\n",
              "      fill: #1967D2;\n",
              "      height: 32px;\n",
              "      padding: 0 0 0 0;\n",
              "      width: 32px;\n",
              "    }\n",
              "\n",
              "    .colab-df-convert:hover {\n",
              "      background-color: #E2EBFA;\n",
              "      box-shadow: 0px 1px 2px rgba(60, 64, 67, 0.3), 0px 1px 3px 1px rgba(60, 64, 67, 0.15);\n",
              "      fill: #174EA6;\n",
              "    }\n",
              "\n",
              "    .colab-df-buttons div {\n",
              "      margin-bottom: 4px;\n",
              "    }\n",
              "\n",
              "    [theme=dark] .colab-df-convert {\n",
              "      background-color: #3B4455;\n",
              "      fill: #D2E3FC;\n",
              "    }\n",
              "\n",
              "    [theme=dark] .colab-df-convert:hover {\n",
              "      background-color: #434B5C;\n",
              "      box-shadow: 0px 1px 3px 1px rgba(0, 0, 0, 0.15);\n",
              "      filter: drop-shadow(0px 1px 2px rgba(0, 0, 0, 0.3));\n",
              "      fill: #FFFFFF;\n",
              "    }\n",
              "  </style>\n",
              "\n",
              "    <script>\n",
              "      const buttonEl =\n",
              "        document.querySelector('#df-6e0c287c-6c3e-4dd3-baf8-8d3aebf30623 button.colab-df-convert');\n",
              "      buttonEl.style.display =\n",
              "        google.colab.kernel.accessAllowed ? 'block' : 'none';\n",
              "\n",
              "      async function convertToInteractive(key) {\n",
              "        const element = document.querySelector('#df-6e0c287c-6c3e-4dd3-baf8-8d3aebf30623');\n",
              "        const dataTable =\n",
              "          await google.colab.kernel.invokeFunction('convertToInteractive',\n",
              "                                                    [key], {});\n",
              "        if (!dataTable) return;\n",
              "\n",
              "        const docLinkHtml = 'Like what you see? Visit the ' +\n",
              "          '<a target=\"_blank\" href=https://colab.research.google.com/notebooks/data_table.ipynb>data table notebook</a>'\n",
              "          + ' to learn more about interactive tables.';\n",
              "        element.innerHTML = '';\n",
              "        dataTable['output_type'] = 'display_data';\n",
              "        await google.colab.output.renderOutput(dataTable, element);\n",
              "        const docLink = document.createElement('div');\n",
              "        docLink.innerHTML = docLinkHtml;\n",
              "        element.appendChild(docLink);\n",
              "      }\n",
              "    </script>\n",
              "  </div>\n",
              "\n",
              "\n",
              "<div id=\"df-a3a35929-db5e-471c-82cc-5d3f9e4c9454\">\n",
              "  <button class=\"colab-df-quickchart\" onclick=\"quickchart('df-a3a35929-db5e-471c-82cc-5d3f9e4c9454')\"\n",
              "            title=\"Suggest charts\"\n",
              "            style=\"display:none;\">\n",
              "\n",
              "<svg xmlns=\"http://www.w3.org/2000/svg\" height=\"24px\"viewBox=\"0 0 24 24\"\n",
              "     width=\"24px\">\n",
              "    <g>\n",
              "        <path d=\"M19 3H5c-1.1 0-2 .9-2 2v14c0 1.1.9 2 2 2h14c1.1 0 2-.9 2-2V5c0-1.1-.9-2-2-2zM9 17H7v-7h2v7zm4 0h-2V7h2v10zm4 0h-2v-4h2v4z\"/>\n",
              "    </g>\n",
              "</svg>\n",
              "  </button>\n",
              "\n",
              "<style>\n",
              "  .colab-df-quickchart {\n",
              "      --bg-color: #E8F0FE;\n",
              "      --fill-color: #1967D2;\n",
              "      --hover-bg-color: #E2EBFA;\n",
              "      --hover-fill-color: #174EA6;\n",
              "      --disabled-fill-color: #AAA;\n",
              "      --disabled-bg-color: #DDD;\n",
              "  }\n",
              "\n",
              "  [theme=dark] .colab-df-quickchart {\n",
              "      --bg-color: #3B4455;\n",
              "      --fill-color: #D2E3FC;\n",
              "      --hover-bg-color: #434B5C;\n",
              "      --hover-fill-color: #FFFFFF;\n",
              "      --disabled-bg-color: #3B4455;\n",
              "      --disabled-fill-color: #666;\n",
              "  }\n",
              "\n",
              "  .colab-df-quickchart {\n",
              "    background-color: var(--bg-color);\n",
              "    border: none;\n",
              "    border-radius: 50%;\n",
              "    cursor: pointer;\n",
              "    display: none;\n",
              "    fill: var(--fill-color);\n",
              "    height: 32px;\n",
              "    padding: 0;\n",
              "    width: 32px;\n",
              "  }\n",
              "\n",
              "  .colab-df-quickchart:hover {\n",
              "    background-color: var(--hover-bg-color);\n",
              "    box-shadow: 0 1px 2px rgba(60, 64, 67, 0.3), 0 1px 3px 1px rgba(60, 64, 67, 0.15);\n",
              "    fill: var(--button-hover-fill-color);\n",
              "  }\n",
              "\n",
              "  .colab-df-quickchart-complete:disabled,\n",
              "  .colab-df-quickchart-complete:disabled:hover {\n",
              "    background-color: var(--disabled-bg-color);\n",
              "    fill: var(--disabled-fill-color);\n",
              "    box-shadow: none;\n",
              "  }\n",
              "\n",
              "  .colab-df-spinner {\n",
              "    border: 2px solid var(--fill-color);\n",
              "    border-color: transparent;\n",
              "    border-bottom-color: var(--fill-color);\n",
              "    animation:\n",
              "      spin 1s steps(1) infinite;\n",
              "  }\n",
              "\n",
              "  @keyframes spin {\n",
              "    0% {\n",
              "      border-color: transparent;\n",
              "      border-bottom-color: var(--fill-color);\n",
              "      border-left-color: var(--fill-color);\n",
              "    }\n",
              "    20% {\n",
              "      border-color: transparent;\n",
              "      border-left-color: var(--fill-color);\n",
              "      border-top-color: var(--fill-color);\n",
              "    }\n",
              "    30% {\n",
              "      border-color: transparent;\n",
              "      border-left-color: var(--fill-color);\n",
              "      border-top-color: var(--fill-color);\n",
              "      border-right-color: var(--fill-color);\n",
              "    }\n",
              "    40% {\n",
              "      border-color: transparent;\n",
              "      border-right-color: var(--fill-color);\n",
              "      border-top-color: var(--fill-color);\n",
              "    }\n",
              "    60% {\n",
              "      border-color: transparent;\n",
              "      border-right-color: var(--fill-color);\n",
              "    }\n",
              "    80% {\n",
              "      border-color: transparent;\n",
              "      border-right-color: var(--fill-color);\n",
              "      border-bottom-color: var(--fill-color);\n",
              "    }\n",
              "    90% {\n",
              "      border-color: transparent;\n",
              "      border-bottom-color: var(--fill-color);\n",
              "    }\n",
              "  }\n",
              "</style>\n",
              "\n",
              "  <script>\n",
              "    async function quickchart(key) {\n",
              "      const quickchartButtonEl =\n",
              "        document.querySelector('#' + key + ' button');\n",
              "      quickchartButtonEl.disabled = true;  // To prevent multiple clicks.\n",
              "      quickchartButtonEl.classList.add('colab-df-spinner');\n",
              "      try {\n",
              "        const charts = await google.colab.kernel.invokeFunction(\n",
              "            'suggestCharts', [key], {});\n",
              "      } catch (error) {\n",
              "        console.error('Error during call to suggestCharts:', error);\n",
              "      }\n",
              "      quickchartButtonEl.classList.remove('colab-df-spinner');\n",
              "      quickchartButtonEl.classList.add('colab-df-quickchart-complete');\n",
              "    }\n",
              "    (() => {\n",
              "      let quickchartButtonEl =\n",
              "        document.querySelector('#df-a3a35929-db5e-471c-82cc-5d3f9e4c9454 button');\n",
              "      quickchartButtonEl.style.display =\n",
              "        google.colab.kernel.accessAllowed ? 'block' : 'none';\n",
              "    })();\n",
              "  </script>\n",
              "</div>\n",
              "\n",
              "  <div id=\"id_c744bd43-f95f-43f8-9b59-48eb5c5bf3bd\">\n",
              "    <style>\n",
              "      .colab-df-generate {\n",
              "        background-color: #E8F0FE;\n",
              "        border: none;\n",
              "        border-radius: 50%;\n",
              "        cursor: pointer;\n",
              "        display: none;\n",
              "        fill: #1967D2;\n",
              "        height: 32px;\n",
              "        padding: 0 0 0 0;\n",
              "        width: 32px;\n",
              "      }\n",
              "\n",
              "      .colab-df-generate:hover {\n",
              "        background-color: #E2EBFA;\n",
              "        box-shadow: 0px 1px 2px rgba(60, 64, 67, 0.3), 0px 1px 3px 1px rgba(60, 64, 67, 0.15);\n",
              "        fill: #174EA6;\n",
              "      }\n",
              "\n",
              "      [theme=dark] .colab-df-generate {\n",
              "        background-color: #3B4455;\n",
              "        fill: #D2E3FC;\n",
              "      }\n",
              "\n",
              "      [theme=dark] .colab-df-generate:hover {\n",
              "        background-color: #434B5C;\n",
              "        box-shadow: 0px 1px 3px 1px rgba(0, 0, 0, 0.15);\n",
              "        filter: drop-shadow(0px 1px 2px rgba(0, 0, 0, 0.3));\n",
              "        fill: #FFFFFF;\n",
              "      }\n",
              "    </style>\n",
              "    <button class=\"colab-df-generate\" onclick=\"generateWithVariable('std_data_clean')\"\n",
              "            title=\"Generate code using this dataframe.\"\n",
              "            style=\"display:none;\">\n",
              "\n",
              "  <svg xmlns=\"http://www.w3.org/2000/svg\" height=\"24px\"viewBox=\"0 0 24 24\"\n",
              "       width=\"24px\">\n",
              "    <path d=\"M7,19H8.4L18.45,9,17,7.55,7,17.6ZM5,21V16.75L18.45,3.32a2,2,0,0,1,2.83,0l1.4,1.43a1.91,1.91,0,0,1,.58,1.4,1.91,1.91,0,0,1-.58,1.4L9.25,21ZM18.45,9,17,7.55Zm-12,3A5.31,5.31,0,0,0,4.9,8.1,5.31,5.31,0,0,0,1,6.5,5.31,5.31,0,0,0,4.9,4.9,5.31,5.31,0,0,0,6.5,1,5.31,5.31,0,0,0,8.1,4.9,5.31,5.31,0,0,0,12,6.5,5.46,5.46,0,0,0,6.5,12Z\"/>\n",
              "  </svg>\n",
              "    </button>\n",
              "    <script>\n",
              "      (() => {\n",
              "      const buttonEl =\n",
              "        document.querySelector('#id_c744bd43-f95f-43f8-9b59-48eb5c5bf3bd button.colab-df-generate');\n",
              "      buttonEl.style.display =\n",
              "        google.colab.kernel.accessAllowed ? 'block' : 'none';\n",
              "\n",
              "      buttonEl.onclick = () => {\n",
              "        google.colab.notebook.generateWithVariable('std_data_clean');\n",
              "      }\n",
              "      })();\n",
              "    </script>\n",
              "  </div>\n",
              "\n",
              "    </div>\n",
              "  </div>\n"
            ],
            "application/vnd.google.colaboratory.intrinsic+json": {
              "type": "dataframe",
              "variable_name": "std_data_clean"
            }
          },
          "metadata": {},
          "execution_count": 366
        }
      ]
    },
    {
      "cell_type": "code",
      "execution_count": 367,
      "metadata": {
        "colab": {
          "base_uri": "https://localhost:8080/"
        },
        "id": "SbPJpUPXWe1u",
        "outputId": "4d28a69e-d8af-4bf9-ead1-5c67d0082e1f"
      },
      "outputs": [
        {
          "output_type": "execute_result",
          "data": {
            "text/plain": [
              "Index(['LCLid', 'DateTime', 'Consumption', 'Hour', 'Month'], dtype='object')"
            ]
          },
          "metadata": {},
          "execution_count": 367
        }
      ],
      "source": [
        "std_data_clean.columns"
      ]
    },
    {
      "cell_type": "code",
      "execution_count": 368,
      "metadata": {
        "id": "rO6c02Z85-Xm"
      },
      "outputs": [],
      "source": [
        "tou_data_clean = tou_data_imputed.copy()"
      ]
    },
    {
      "cell_type": "markdown",
      "source": [
        "## **Plotting a Total Monthly Consumption Graph for both STD & ToU**"
      ],
      "metadata": {
        "id": "nzSQGyrZhlTS"
      }
    },
    {
      "cell_type": "code",
      "source": [
        "# Calling the function\n",
        "plot_monthly_consumption(std_data_clean, tou_data_clean)"
      ],
      "metadata": {
        "colab": {
          "base_uri": "https://localhost:8080/",
          "height": 650
        },
        "id": "8JMo8r3khkE-",
        "outputId": "6683a8aa-a864-45a5-8b05-f18eef67646e"
      },
      "execution_count": 369,
      "outputs": [
        {
          "output_type": "display_data",
          "data": {
            "text/plain": [
              "<Figure size 1000x600 with 1 Axes>"
            ],
            "image/png": "[encoded data removed]"
          },
          "metadata": {}
        }
      ]
    },
    {
      "cell_type": "markdown",
      "source": [
        "## Observation: From this line plot it is evident that the Consumers under ToU are having less consumption compared to STD Consumers"
      ],
      "metadata": {
        "id": "_zE406rpi-4M"
      }
    },
    {
      "cell_type": "code",
      "source": [],
      "metadata": {
        "id": "n3eqDSSdpxev"
      },
      "execution_count": 369,
      "outputs": []
    },
    {
      "cell_type": "code",
      "execution_count": 370,
      "metadata": {
        "id": "LjwzZ5Sy5yBC"
      },
      "outputs": [],
      "source": [
        "# Drop columns 'Hour' and 'Month'\n",
        "std_data_clean = std_data_clean.drop(columns=['Hour', 'Month'])\n",
        "tou_data_clean = tou_data_clean.drop(columns=['Hour', 'Month'])"
      ]
    },
    {
      "cell_type": "code",
      "execution_count": 371,
      "metadata": {
        "colab": {
          "base_uri": "https://localhost:8080/"
        },
        "id": "h_xzXGyPbFrh",
        "outputId": "ca73da51-20d6-4f8c-88bb-6711862b6726"
      },
      "outputs": [
        {
          "output_type": "execute_result",
          "data": {
            "text/plain": [
              "Index(['LCLid', 'DateTime', 'Consumption'], dtype='object')"
            ]
          },
          "metadata": {},
          "execution_count": 371
        }
      ],
      "source": [
        "std_data_clean.columns"
      ]
    },
    {
      "cell_type": "code",
      "execution_count": 372,
      "metadata": {
        "colab": {
          "base_uri": "https://localhost:8080/"
        },
        "id": "b7l14pn9xPB7",
        "outputId": "2b792513-220c-4c81-ca58-89a7edf60756"
      },
      "outputs": [
        {
          "output_type": "execute_result",
          "data": {
            "text/plain": [
              "Index(['LCLid', 'DateTime', 'Consumption'], dtype='object')"
            ]
          },
          "metadata": {},
          "execution_count": 372
        }
      ],
      "source": [
        "tou_data_clean.columns"
      ]
    },
    {
      "cell_type": "code",
      "execution_count": 373,
      "metadata": {
        "colab": {
          "base_uri": "https://localhost:8080/",
          "height": 424
        },
        "id": "uCO4xzgvwKnN",
        "outputId": "18c2689f-6a22-4827-b240-3d128203113c"
      },
      "outputs": [
        {
          "output_type": "execute_result",
          "data": {
            "text/plain": [
              "             LCLid            DateTime  Consumption\n",
              "0        MAC000002 2013-01-01 00:00:00        0.219\n",
              "1        MAC000002 2013-01-01 00:30:00        0.241\n",
              "2        MAC000002 2013-01-01 01:00:00        0.191\n",
              "3        MAC000002 2013-01-01 01:30:00        0.235\n",
              "4        MAC000002 2013-01-01 02:00:00        0.182\n",
              "...            ...                 ...          ...\n",
              "1015943  MAC000068 2014-02-27 21:30:00        0.458\n",
              "1015944  MAC000068 2014-02-27 22:00:00        0.538\n",
              "1015945  MAC000068 2014-02-27 22:30:00        0.924\n",
              "1015946  MAC000068 2014-02-27 23:00:00        0.876\n",
              "1015947  MAC000068 2014-02-27 23:30:00        0.306\n",
              "\n",
              "[1015850 rows x 3 columns]"
            ],
            "text/html": [
              "\n",
              "  <div id=\"df-e367778e-4df1-42a3-a90f-19f6a651db2c\" class=\"colab-df-container\">\n",
              "    <div>\n",
              "<style scoped>\n",
              "    .dataframe tbody tr th:only-of-type {\n",
              "        vertical-align: middle;\n",
              "    }\n",
              "\n",
              "    .dataframe tbody tr th {\n",
              "        vertical-align: top;\n",
              "    }\n",
              "\n",
              "    .dataframe thead th {\n",
              "        text-align: right;\n",
              "    }\n",
              "</style>\n",
              "<table border=\"1\" class=\"dataframe\">\n",
              "  <thead>\n",
              "    <tr style=\"text-align: right;\">\n",
              "      <th></th>\n",
              "      <th>LCLid</th>\n",
              "      <th>DateTime</th>\n",
              "      <th>Consumption</th>\n",
              "    </tr>\n",
              "  </thead>\n",
              "  <tbody>\n",
              "    <tr>\n",
              "      <th>0</th>\n",
              "      <td>MAC000002</td>\n",
              "      <td>2013-01-01 00:00:00</td>\n",
              "      <td>0.219</td>\n",
              "    </tr>\n",
              "    <tr>\n",
              "      <th>1</th>\n",
              "      <td>MAC000002</td>\n",
              "      <td>2013-01-01 00:30:00</td>\n",
              "      <td>0.241</td>\n",
              "    </tr>\n",
              "    <tr>\n",
              "      <th>2</th>\n",
              "      <td>MAC000002</td>\n",
              "      <td>2013-01-01 01:00:00</td>\n",
              "      <td>0.191</td>\n",
              "    </tr>\n",
              "    <tr>\n",
              "      <th>3</th>\n",
              "      <td>MAC000002</td>\n",
              "      <td>2013-01-01 01:30:00</td>\n",
              "      <td>0.235</td>\n",
              "    </tr>\n",
              "    <tr>\n",
              "      <th>4</th>\n",
              "      <td>MAC000002</td>\n",
              "      <td>2013-01-01 02:00:00</td>\n",
              "      <td>0.182</td>\n",
              "    </tr>\n",
              "    <tr>\n",
              "      <th>...</th>\n",
              "      <td>...</td>\n",
              "      <td>...</td>\n",
              "      <td>...</td>\n",
              "    </tr>\n",
              "    <tr>\n",
              "      <th>1015943</th>\n",
              "      <td>MAC000068</td>\n",
              "      <td>2014-02-27 21:30:00</td>\n",
              "      <td>0.458</td>\n",
              "    </tr>\n",
              "    <tr>\n",
              "      <th>1015944</th>\n",
              "      <td>MAC000068</td>\n",
              "      <td>2014-02-27 22:00:00</td>\n",
              "      <td>0.538</td>\n",
              "    </tr>\n",
              "    <tr>\n",
              "      <th>1015945</th>\n",
              "      <td>MAC000068</td>\n",
              "      <td>2014-02-27 22:30:00</td>\n",
              "      <td>0.924</td>\n",
              "    </tr>\n",
              "    <tr>\n",
              "      <th>1015946</th>\n",
              "      <td>MAC000068</td>\n",
              "      <td>2014-02-27 23:00:00</td>\n",
              "      <td>0.876</td>\n",
              "    </tr>\n",
              "    <tr>\n",
              "      <th>1015947</th>\n",
              "      <td>MAC000068</td>\n",
              "      <td>2014-02-27 23:30:00</td>\n",
              "      <td>0.306</td>\n",
              "    </tr>\n",
              "  </tbody>\n",
              "</table>\n",
              "<p>1015850 rows × 3 columns</p>\n",
              "</div>\n",
              "    <div class=\"colab-df-buttons\">\n",
              "\n",
              "  <div class=\"colab-df-container\">\n",
              "    <button class=\"colab-df-convert\" onclick=\"convertToInteractive('df-e367778e-4df1-42a3-a90f-19f6a651db2c')\"\n",
              "            title=\"Convert this dataframe to an interactive table.\"\n",
              "            style=\"display:none;\">\n",
              "\n",
              "  <svg xmlns=\"http://www.w3.org/2000/svg\" height=\"24px\" viewBox=\"0 -960 960 960\">\n",
              "    <path d=\"M120-120v-720h720v720H120Zm60-500h600v-160H180v160Zm220 220h160v-160H400v160Zm0 220h160v-160H400v160ZM180-400h160v-160H180v160Zm440 0h160v-160H620v160ZM180-180h160v-160H180v160Zm440 0h160v-160H620v160Z\"/>\n",
              "  </svg>\n",
              "    </button>\n",
              "\n",
              "  <style>\n",
              "    .colab-df-container {\n",
              "      display:flex;\n",
              "      gap: 12px;\n",
              "    }\n",
              "\n",
              "    .colab-df-convert {\n",
              "      background-color: #E8F0FE;\n",
              "      border: none;\n",
              "      border-radius: 50%;\n",
              "      cursor: pointer;\n",
              "      display: none;\n",
              "      fill: #1967D2;\n",
              "      height: 32px;\n",
              "      padding: 0 0 0 0;\n",
              "      width: 32px;\n",
              "    }\n",
              "\n",
              "    .colab-df-convert:hover {\n",
              "      background-color: #E2EBFA;\n",
              "      box-shadow: 0px 1px 2px rgba(60, 64, 67, 0.3), 0px 1px 3px 1px rgba(60, 64, 67, 0.15);\n",
              "      fill: #174EA6;\n",
              "    }\n",
              "\n",
              "    .colab-df-buttons div {\n",
              "      margin-bottom: 4px;\n",
              "    }\n",
              "\n",
              "    [theme=dark] .colab-df-convert {\n",
              "      background-color: #3B4455;\n",
              "      fill: #D2E3FC;\n",
              "    }\n",
              "\n",
              "    [theme=dark] .colab-df-convert:hover {\n",
              "      background-color: #434B5C;\n",
              "      box-shadow: 0px 1px 3px 1px rgba(0, 0, 0, 0.15);\n",
              "      filter: drop-shadow(0px 1px 2px rgba(0, 0, 0, 0.3));\n",
              "      fill: #FFFFFF;\n",
              "    }\n",
              "  </style>\n",
              "\n",
              "    <script>\n",
              "      const buttonEl =\n",
              "        document.querySelector('#df-e367778e-4df1-42a3-a90f-19f6a651db2c button.colab-df-convert');\n",
              "      buttonEl.style.display =\n",
              "        google.colab.kernel.accessAllowed ? 'block' : 'none';\n",
              "\n",
              "      async function convertToInteractive(key) {\n",
              "        const element = document.querySelector('#df-e367778e-4df1-42a3-a90f-19f6a651db2c');\n",
              "        const dataTable =\n",
              "          await google.colab.kernel.invokeFunction('convertToInteractive',\n",
              "                                                    [key], {});\n",
              "        if (!dataTable) return;\n",
              "\n",
              "        const docLinkHtml = 'Like what you see? Visit the ' +\n",
              "          '<a target=\"_blank\" href=https://colab.research.google.com/notebooks/data_table.ipynb>data table notebook</a>'\n",
              "          + ' to learn more about interactive tables.';\n",
              "        element.innerHTML = '';\n",
              "        dataTable['output_type'] = 'display_data';\n",
              "        await google.colab.output.renderOutput(dataTable, element);\n",
              "        const docLink = document.createElement('div');\n",
              "        docLink.innerHTML = docLinkHtml;\n",
              "        element.appendChild(docLink);\n",
              "      }\n",
              "    </script>\n",
              "  </div>\n",
              "\n",
              "\n",
              "<div id=\"df-a7046af2-d08c-45c6-99ca-64351d6cbd46\">\n",
              "  <button class=\"colab-df-quickchart\" onclick=\"quickchart('df-a7046af2-d08c-45c6-99ca-64351d6cbd46')\"\n",
              "            title=\"Suggest charts\"\n",
              "            style=\"display:none;\">\n",
              "\n",
              "<svg xmlns=\"http://www.w3.org/2000/svg\" height=\"24px\"viewBox=\"0 0 24 24\"\n",
              "     width=\"24px\">\n",
              "    <g>\n",
              "        <path d=\"M19 3H5c-1.1 0-2 .9-2 2v14c0 1.1.9 2 2 2h14c1.1 0 2-.9 2-2V5c0-1.1-.9-2-2-2zM9 17H7v-7h2v7zm4 0h-2V7h2v10zm4 0h-2v-4h2v4z\"/>\n",
              "    </g>\n",
              "</svg>\n",
              "  </button>\n",
              "\n",
              "<style>\n",
              "  .colab-df-quickchart {\n",
              "      --bg-color: #E8F0FE;\n",
              "      --fill-color: #1967D2;\n",
              "      --hover-bg-color: #E2EBFA;\n",
              "      --hover-fill-color: #174EA6;\n",
              "      --disabled-fill-color: #AAA;\n",
              "      --disabled-bg-color: #DDD;\n",
              "  }\n",
              "\n",
              "  [theme=dark] .colab-df-quickchart {\n",
              "      --bg-color: #3B4455;\n",
              "      --fill-color: #D2E3FC;\n",
              "      --hover-bg-color: #434B5C;\n",
              "      --hover-fill-color: #FFFFFF;\n",
              "      --disabled-bg-color: #3B4455;\n",
              "      --disabled-fill-color: #666;\n",
              "  }\n",
              "\n",
              "  .colab-df-quickchart {\n",
              "    background-color: var(--bg-color);\n",
              "    border: none;\n",
              "    border-radius: 50%;\n",
              "    cursor: pointer;\n",
              "    display: none;\n",
              "    fill: var(--fill-color);\n",
              "    height: 32px;\n",
              "    padding: 0;\n",
              "    width: 32px;\n",
              "  }\n",
              "\n",
              "  .colab-df-quickchart:hover {\n",
              "    background-color: var(--hover-bg-color);\n",
              "    box-shadow: 0 1px 2px rgba(60, 64, 67, 0.3), 0 1px 3px 1px rgba(60, 64, 67, 0.15);\n",
              "    fill: var(--button-hover-fill-color);\n",
              "  }\n",
              "\n",
              "  .colab-df-quickchart-complete:disabled,\n",
              "  .colab-df-quickchart-complete:disabled:hover {\n",
              "    background-color: var(--disabled-bg-color);\n",
              "    fill: var(--disabled-fill-color);\n",
              "    box-shadow: none;\n",
              "  }\n",
              "\n",
              "  .colab-df-spinner {\n",
              "    border: 2px solid var(--fill-color);\n",
              "    border-color: transparent;\n",
              "    border-bottom-color: var(--fill-color);\n",
              "    animation:\n",
              "      spin 1s steps(1) infinite;\n",
              "  }\n",
              "\n",
              "  @keyframes spin {\n",
              "    0% {\n",
              "      border-color: transparent;\n",
              "      border-bottom-color: var(--fill-color);\n",
              "      border-left-color: var(--fill-color);\n",
              "    }\n",
              "    20% {\n",
              "      border-color: transparent;\n",
              "      border-left-color: var(--fill-color);\n",
              "      border-top-color: var(--fill-color);\n",
              "    }\n",
              "    30% {\n",
              "      border-color: transparent;\n",
              "      border-left-color: var(--fill-color);\n",
              "      border-top-color: var(--fill-color);\n",
              "      border-right-color: var(--fill-color);\n",
              "    }\n",
              "    40% {\n",
              "      border-color: transparent;\n",
              "      border-right-color: var(--fill-color);\n",
              "      border-top-color: var(--fill-color);\n",
              "    }\n",
              "    60% {\n",
              "      border-color: transparent;\n",
              "      border-right-color: var(--fill-color);\n",
              "    }\n",
              "    80% {\n",
              "      border-color: transparent;\n",
              "      border-right-color: var(--fill-color);\n",
              "      border-bottom-color: var(--fill-color);\n",
              "    }\n",
              "    90% {\n",
              "      border-color: transparent;\n",
              "      border-bottom-color: var(--fill-color);\n",
              "    }\n",
              "  }\n",
              "</style>\n",
              "\n",
              "  <script>\n",
              "    async function quickchart(key) {\n",
              "      const quickchartButtonEl =\n",
              "        document.querySelector('#' + key + ' button');\n",
              "      quickchartButtonEl.disabled = true;  // To prevent multiple clicks.\n",
              "      quickchartButtonEl.classList.add('colab-df-spinner');\n",
              "      try {\n",
              "        const charts = await google.colab.kernel.invokeFunction(\n",
              "            'suggestCharts', [key], {});\n",
              "      } catch (error) {\n",
              "        console.error('Error during call to suggestCharts:', error);\n",
              "      }\n",
              "      quickchartButtonEl.classList.remove('colab-df-spinner');\n",
              "      quickchartButtonEl.classList.add('colab-df-quickchart-complete');\n",
              "    }\n",
              "    (() => {\n",
              "      let quickchartButtonEl =\n",
              "        document.querySelector('#df-a7046af2-d08c-45c6-99ca-64351d6cbd46 button');\n",
              "      quickchartButtonEl.style.display =\n",
              "        google.colab.kernel.accessAllowed ? 'block' : 'none';\n",
              "    })();\n",
              "  </script>\n",
              "</div>\n",
              "\n",
              "  <div id=\"id_6815c79f-365c-42c2-84c3-870702818e01\">\n",
              "    <style>\n",
              "      .colab-df-generate {\n",
              "        background-color: #E8F0FE;\n",
              "        border: none;\n",
              "        border-radius: 50%;\n",
              "        cursor: pointer;\n",
              "        display: none;\n",
              "        fill: #1967D2;\n",
              "        height: 32px;\n",
              "        padding: 0 0 0 0;\n",
              "        width: 32px;\n",
              "      }\n",
              "\n",
              "      .colab-df-generate:hover {\n",
              "        background-color: #E2EBFA;\n",
              "        box-shadow: 0px 1px 2px rgba(60, 64, 67, 0.3), 0px 1px 3px 1px rgba(60, 64, 67, 0.15);\n",
              "        fill: #174EA6;\n",
              "      }\n",
              "\n",
              "      [theme=dark] .colab-df-generate {\n",
              "        background-color: #3B4455;\n",
              "        fill: #D2E3FC;\n",
              "      }\n",
              "\n",
              "      [theme=dark] .colab-df-generate:hover {\n",
              "        background-color: #434B5C;\n",
              "        box-shadow: 0px 1px 3px 1px rgba(0, 0, 0, 0.15);\n",
              "        filter: drop-shadow(0px 1px 2px rgba(0, 0, 0, 0.3));\n",
              "        fill: #FFFFFF;\n",
              "      }\n",
              "    </style>\n",
              "    <button class=\"colab-df-generate\" onclick=\"generateWithVariable('std_data_clean')\"\n",
              "            title=\"Generate code using this dataframe.\"\n",
              "            style=\"display:none;\">\n",
              "\n",
              "  <svg xmlns=\"http://www.w3.org/2000/svg\" height=\"24px\"viewBox=\"0 0 24 24\"\n",
              "       width=\"24px\">\n",
              "    <path d=\"M7,19H8.4L18.45,9,17,7.55,7,17.6ZM5,21V16.75L18.45,3.32a2,2,0,0,1,2.83,0l1.4,1.43a1.91,1.91,0,0,1,.58,1.4,1.91,1.91,0,0,1-.58,1.4L9.25,21ZM18.45,9,17,7.55Zm-12,3A5.31,5.31,0,0,0,4.9,8.1,5.31,5.31,0,0,0,1,6.5,5.31,5.31,0,0,0,4.9,4.9,5.31,5.31,0,0,0,6.5,1,5.31,5.31,0,0,0,8.1,4.9,5.31,5.31,0,0,0,12,6.5,5.46,5.46,0,0,0,6.5,12Z\"/>\n",
              "  </svg>\n",
              "    </button>\n",
              "    <script>\n",
              "      (() => {\n",
              "      const buttonEl =\n",
              "        document.querySelector('#id_6815c79f-365c-42c2-84c3-870702818e01 button.colab-df-generate');\n",
              "      buttonEl.style.display =\n",
              "        google.colab.kernel.accessAllowed ? 'block' : 'none';\n",
              "\n",
              "      buttonEl.onclick = () => {\n",
              "        google.colab.notebook.generateWithVariable('std_data_clean');\n",
              "      }\n",
              "      })();\n",
              "    </script>\n",
              "  </div>\n",
              "\n",
              "    </div>\n",
              "  </div>\n"
            ],
            "application/vnd.google.colaboratory.intrinsic+json": {
              "type": "dataframe",
              "variable_name": "std_data_clean"
            }
          },
          "metadata": {},
          "execution_count": 373
        }
      ],
      "source": [
        "std_data_clean"
      ]
    },
    {
      "cell_type": "markdown",
      "metadata": {
        "id": "B-joeXywWXt1"
      },
      "source": [
        "## **Normalization**"
      ]
    },
    {
      "cell_type": "code",
      "execution_count": 374,
      "metadata": {
        "id": "VmSt0YCqWW-2"
      },
      "outputs": [],
      "source": [
        "normalized_std_df = normalize_time_series_data(std_data_clean)\n",
        "normalized_tou_df = normalize_time_series_data(tou_data_clean)"
      ]
    },
    {
      "cell_type": "code",
      "source": [
        "normalized_std_df"
      ],
      "metadata": {
        "colab": {
          "base_uri": "https://localhost:8080/",
          "height": 424
        },
        "id": "a1dLtD9DrP9g",
        "outputId": "b289ddac-7342-4d2a-f351-b3b3876e5ece"
      },
      "execution_count": 375,
      "outputs": [
        {
          "output_type": "execute_result",
          "data": {
            "text/plain": [
              "             LCLid            DateTime  Consumption\n",
              "0        MAC000002 2013-01-01 00:00:00     0.052578\n",
              "1        MAC000002 2013-01-01 00:30:00     0.060089\n",
              "2        MAC000002 2013-01-01 01:00:00     0.043018\n",
              "3        MAC000002 2013-01-01 01:30:00     0.058040\n",
              "4        MAC000002 2013-01-01 02:00:00     0.039945\n",
              "...            ...                 ...          ...\n",
              "1015845  MAC000068 2014-02-27 21:30:00     0.156538\n",
              "1015846  MAC000068 2014-02-27 22:00:00     0.186004\n",
              "1015847  MAC000068 2014-02-27 22:30:00     0.328177\n",
              "1015848  MAC000068 2014-02-27 23:00:00     0.310497\n",
              "1015849  MAC000068 2014-02-27 23:30:00     0.100552\n",
              "\n",
              "[1015850 rows x 3 columns]"
            ],
            "text/html": [
              "\n",
              "  <div id=\"df-53ebb8eb-2073-471b-88c8-81522067264a\" class=\"colab-df-container\">\n",
              "    <div>\n",
              "<style scoped>\n",
              "    .dataframe tbody tr th:only-of-type {\n",
              "        vertical-align: middle;\n",
              "    }\n",
              "\n",
              "    .dataframe tbody tr th {\n",
              "        vertical-align: top;\n",
              "    }\n",
              "\n",
              "    .dataframe thead th {\n",
              "        text-align: right;\n",
              "    }\n",
              "</style>\n",
              "<table border=\"1\" class=\"dataframe\">\n",
              "  <thead>\n",
              "    <tr style=\"text-align: right;\">\n",
              "      <th></th>\n",
              "      <th>LCLid</th>\n",
              "      <th>DateTime</th>\n",
              "      <th>Consumption</th>\n",
              "    </tr>\n",
              "  </thead>\n",
              "  <tbody>\n",
              "    <tr>\n",
              "      <th>0</th>\n",
              "      <td>MAC000002</td>\n",
              "      <td>2013-01-01 00:00:00</td>\n",
              "      <td>0.052578</td>\n",
              "    </tr>\n",
              "    <tr>\n",
              "      <th>1</th>\n",
              "      <td>MAC000002</td>\n",
              "      <td>2013-01-01 00:30:00</td>\n",
              "      <td>0.060089</td>\n",
              "    </tr>\n",
              "    <tr>\n",
              "      <th>2</th>\n",
              "      <td>MAC000002</td>\n",
              "      <td>2013-01-01 01:00:00</td>\n",
              "      <td>0.043018</td>\n",
              "    </tr>\n",
              "    <tr>\n",
              "      <th>3</th>\n",
              "      <td>MAC000002</td>\n",
              "      <td>2013-01-01 01:30:00</td>\n",
              "      <td>0.058040</td>\n",
              "    </tr>\n",
              "    <tr>\n",
              "      <th>4</th>\n",
              "      <td>MAC000002</td>\n",
              "      <td>2013-01-01 02:00:00</td>\n",
              "      <td>0.039945</td>\n",
              "    </tr>\n",
              "    <tr>\n",
              "      <th>...</th>\n",
              "      <td>...</td>\n",
              "      <td>...</td>\n",
              "      <td>...</td>\n",
              "    </tr>\n",
              "    <tr>\n",
              "      <th>1015845</th>\n",
              "      <td>MAC000068</td>\n",
              "      <td>2014-02-27 21:30:00</td>\n",
              "      <td>0.156538</td>\n",
              "    </tr>\n",
              "    <tr>\n",
              "      <th>1015846</th>\n",
              "      <td>MAC000068</td>\n",
              "      <td>2014-02-27 22:00:00</td>\n",
              "      <td>0.186004</td>\n",
              "    </tr>\n",
              "    <tr>\n",
              "      <th>1015847</th>\n",
              "      <td>MAC000068</td>\n",
              "      <td>2014-02-27 22:30:00</td>\n",
              "      <td>0.328177</td>\n",
              "    </tr>\n",
              "    <tr>\n",
              "      <th>1015848</th>\n",
              "      <td>MAC000068</td>\n",
              "      <td>2014-02-27 23:00:00</td>\n",
              "      <td>0.310497</td>\n",
              "    </tr>\n",
              "    <tr>\n",
              "      <th>1015849</th>\n",
              "      <td>MAC000068</td>\n",
              "      <td>2014-02-27 23:30:00</td>\n",
              "      <td>0.100552</td>\n",
              "    </tr>\n",
              "  </tbody>\n",
              "</table>\n",
              "<p>1015850 rows × 3 columns</p>\n",
              "</div>\n",
              "    <div class=\"colab-df-buttons\">\n",
              "\n",
              "  <div class=\"colab-df-container\">\n",
              "    <button class=\"colab-df-convert\" onclick=\"convertToInteractive('df-53ebb8eb-2073-471b-88c8-81522067264a')\"\n",
              "            title=\"Convert this dataframe to an interactive table.\"\n",
              "            style=\"display:none;\">\n",
              "\n",
              "  <svg xmlns=\"http://www.w3.org/2000/svg\" height=\"24px\" viewBox=\"0 -960 960 960\">\n",
              "    <path d=\"M120-120v-720h720v720H120Zm60-500h600v-160H180v160Zm220 220h160v-160H400v160Zm0 220h160v-160H400v160ZM180-400h160v-160H180v160Zm440 0h160v-160H620v160ZM180-180h160v-160H180v160Zm440 0h160v-160H620v160Z\"/>\n",
              "  </svg>\n",
              "    </button>\n",
              "\n",
              "  <style>\n",
              "    .colab-df-container {\n",
              "      display:flex;\n",
              "      gap: 12px;\n",
              "    }\n",
              "\n",
              "    .colab-df-convert {\n",
              "      background-color: #E8F0FE;\n",
              "      border: none;\n",
              "      border-radius: 50%;\n",
              "      cursor: pointer;\n",
              "      display: none;\n",
              "      fill: #1967D2;\n",
              "      height: 32px;\n",
              "      padding: 0 0 0 0;\n",
              "      width: 32px;\n",
              "    }\n",
              "\n",
              "    .colab-df-convert:hover {\n",
              "      background-color: #E2EBFA;\n",
              "      box-shadow: 0px 1px 2px rgba(60, 64, 67, 0.3), 0px 1px 3px 1px rgba(60, 64, 67, 0.15);\n",
              "      fill: #174EA6;\n",
              "    }\n",
              "\n",
              "    .colab-df-buttons div {\n",
              "      margin-bottom: 4px;\n",
              "    }\n",
              "\n",
              "    [theme=dark] .colab-df-convert {\n",
              "      background-color: #3B4455;\n",
              "      fill: #D2E3FC;\n",
              "    }\n",
              "\n",
              "    [theme=dark] .colab-df-convert:hover {\n",
              "      background-color: #434B5C;\n",
              "      box-shadow: 0px 1px 3px 1px rgba(0, 0, 0, 0.15);\n",
              "      filter: drop-shadow(0px 1px 2px rgba(0, 0, 0, 0.3));\n",
              "      fill: #FFFFFF;\n",
              "    }\n",
              "  </style>\n",
              "\n",
              "    <script>\n",
              "      const buttonEl =\n",
              "        document.querySelector('#df-53ebb8eb-2073-471b-88c8-81522067264a button.colab-df-convert');\n",
              "      buttonEl.style.display =\n",
              "        google.colab.kernel.accessAllowed ? 'block' : 'none';\n",
              "\n",
              "      async function convertToInteractive(key) {\n",
              "        const element = document.querySelector('#df-53ebb8eb-2073-471b-88c8-81522067264a');\n",
              "        const dataTable =\n",
              "          await google.colab.kernel.invokeFunction('convertToInteractive',\n",
              "                                                    [key], {});\n",
              "        if (!dataTable) return;\n",
              "\n",
              "        const docLinkHtml = 'Like what you see? Visit the ' +\n",
              "          '<a target=\"_blank\" href=https://colab.research.google.com/notebooks/data_table.ipynb>data table notebook</a>'\n",
              "          + ' to learn more about interactive tables.';\n",
              "        element.innerHTML = '';\n",
              "        dataTable['output_type'] = 'display_data';\n",
              "        await google.colab.output.renderOutput(dataTable, element);\n",
              "        const docLink = document.createElement('div');\n",
              "        docLink.innerHTML = docLinkHtml;\n",
              "        element.appendChild(docLink);\n",
              "      }\n",
              "    </script>\n",
              "  </div>\n",
              "\n",
              "\n",
              "<div id=\"df-80cfebec-3036-4bd3-9823-9b3af2cb932a\">\n",
              "  <button class=\"colab-df-quickchart\" onclick=\"quickchart('df-80cfebec-3036-4bd3-9823-9b3af2cb932a')\"\n",
              "            title=\"Suggest charts\"\n",
              "            style=\"display:none;\">\n",
              "\n",
              "<svg xmlns=\"http://www.w3.org/2000/svg\" height=\"24px\"viewBox=\"0 0 24 24\"\n",
              "     width=\"24px\">\n",
              "    <g>\n",
              "        <path d=\"M19 3H5c-1.1 0-2 .9-2 2v14c0 1.1.9 2 2 2h14c1.1 0 2-.9 2-2V5c0-1.1-.9-2-2-2zM9 17H7v-7h2v7zm4 0h-2V7h2v10zm4 0h-2v-4h2v4z\"/>\n",
              "    </g>\n",
              "</svg>\n",
              "  </button>\n",
              "\n",
              "<style>\n",
              "  .colab-df-quickchart {\n",
              "      --bg-color: #E8F0FE;\n",
              "      --fill-color: #1967D2;\n",
              "      --hover-bg-color: #E2EBFA;\n",
              "      --hover-fill-color: #174EA6;\n",
              "      --disabled-fill-color: #AAA;\n",
              "      --disabled-bg-color: #DDD;\n",
              "  }\n",
              "\n",
              "  [theme=dark] .colab-df-quickchart {\n",
              "      --bg-color: #3B4455;\n",
              "      --fill-color: #D2E3FC;\n",
              "      --hover-bg-color: #434B5C;\n",
              "      --hover-fill-color: #FFFFFF;\n",
              "      --disabled-bg-color: #3B4455;\n",
              "      --disabled-fill-color: #666;\n",
              "  }\n",
              "\n",
              "  .colab-df-quickchart {\n",
              "    background-color: var(--bg-color);\n",
              "    border: none;\n",
              "    border-radius: 50%;\n",
              "    cursor: pointer;\n",
              "    display: none;\n",
              "    fill: var(--fill-color);\n",
              "    height: 32px;\n",
              "    padding: 0;\n",
              "    width: 32px;\n",
              "  }\n",
              "\n",
              "  .colab-df-quickchart:hover {\n",
              "    background-color: var(--hover-bg-color);\n",
              "    box-shadow: 0 1px 2px rgba(60, 64, 67, 0.3), 0 1px 3px 1px rgba(60, 64, 67, 0.15);\n",
              "    fill: var(--button-hover-fill-color);\n",
              "  }\n",
              "\n",
              "  .colab-df-quickchart-complete:disabled,\n",
              "  .colab-df-quickchart-complete:disabled:hover {\n",
              "    background-color: var(--disabled-bg-color);\n",
              "    fill: var(--disabled-fill-color);\n",
              "    box-shadow: none;\n",
              "  }\n",
              "\n",
              "  .colab-df-spinner {\n",
              "    border: 2px solid var(--fill-color);\n",
              "    border-color: transparent;\n",
              "    border-bottom-color: var(--fill-color);\n",
              "    animation:\n",
              "      spin 1s steps(1) infinite;\n",
              "  }\n",
              "\n",
              "  @keyframes spin {\n",
              "    0% {\n",
              "      border-color: transparent;\n",
              "      border-bottom-color: var(--fill-color);\n",
              "      border-left-color: var(--fill-color);\n",
              "    }\n",
              "    20% {\n",
              "      border-color: transparent;\n",
              "      border-left-color: var(--fill-color);\n",
              "      border-top-color: var(--fill-color);\n",
              "    }\n",
              "    30% {\n",
              "      border-color: transparent;\n",
              "      border-left-color: var(--fill-color);\n",
              "      border-top-color: var(--fill-color);\n",
              "      border-right-color: var(--fill-color);\n",
              "    }\n",
              "    40% {\n",
              "      border-color: transparent;\n",
              "      border-right-color: var(--fill-color);\n",
              "      border-top-color: var(--fill-color);\n",
              "    }\n",
              "    60% {\n",
              "      border-color: transparent;\n",
              "      border-right-color: var(--fill-color);\n",
              "    }\n",
              "    80% {\n",
              "      border-color: transparent;\n",
              "      border-right-color: var(--fill-color);\n",
              "      border-bottom-color: var(--fill-color);\n",
              "    }\n",
              "    90% {\n",
              "      border-color: transparent;\n",
              "      border-bottom-color: var(--fill-color);\n",
              "    }\n",
              "  }\n",
              "</style>\n",
              "\n",
              "  <script>\n",
              "    async function quickchart(key) {\n",
              "      const quickchartButtonEl =\n",
              "        document.querySelector('#' + key + ' button');\n",
              "      quickchartButtonEl.disabled = true;  // To prevent multiple clicks.\n",
              "      quickchartButtonEl.classList.add('colab-df-spinner');\n",
              "      try {\n",
              "        const charts = await google.colab.kernel.invokeFunction(\n",
              "            'suggestCharts', [key], {});\n",
              "      } catch (error) {\n",
              "        console.error('Error during call to suggestCharts:', error);\n",
              "      }\n",
              "      quickchartButtonEl.classList.remove('colab-df-spinner');\n",
              "      quickchartButtonEl.classList.add('colab-df-quickchart-complete');\n",
              "    }\n",
              "    (() => {\n",
              "      let quickchartButtonEl =\n",
              "        document.querySelector('#df-80cfebec-3036-4bd3-9823-9b3af2cb932a button');\n",
              "      quickchartButtonEl.style.display =\n",
              "        google.colab.kernel.accessAllowed ? 'block' : 'none';\n",
              "    })();\n",
              "  </script>\n",
              "</div>\n",
              "\n",
              "  <div id=\"id_37ff3b62-fe9b-41fd-b46b-4ec79490723c\">\n",
              "    <style>\n",
              "      .colab-df-generate {\n",
              "        background-color: #E8F0FE;\n",
              "        border: none;\n",
              "        border-radius: 50%;\n",
              "        cursor: pointer;\n",
              "        display: none;\n",
              "        fill: #1967D2;\n",
              "        height: 32px;\n",
              "        padding: 0 0 0 0;\n",
              "        width: 32px;\n",
              "      }\n",
              "\n",
              "      .colab-df-generate:hover {\n",
              "        background-color: #E2EBFA;\n",
              "        box-shadow: 0px 1px 2px rgba(60, 64, 67, 0.3), 0px 1px 3px 1px rgba(60, 64, 67, 0.15);\n",
              "        fill: #174EA6;\n",
              "      }\n",
              "\n",
              "      [theme=dark] .colab-df-generate {\n",
              "        background-color: #3B4455;\n",
              "        fill: #D2E3FC;\n",
              "      }\n",
              "\n",
              "      [theme=dark] .colab-df-generate:hover {\n",
              "        background-color: #434B5C;\n",
              "        box-shadow: 0px 1px 3px 1px rgba(0, 0, 0, 0.15);\n",
              "        filter: drop-shadow(0px 1px 2px rgba(0, 0, 0, 0.3));\n",
              "        fill: #FFFFFF;\n",
              "      }\n",
              "    </style>\n",
              "    <button class=\"colab-df-generate\" onclick=\"generateWithVariable('normalized_std_df')\"\n",
              "            title=\"Generate code using this dataframe.\"\n",
              "            style=\"display:none;\">\n",
              "\n",
              "  <svg xmlns=\"http://www.w3.org/2000/svg\" height=\"24px\"viewBox=\"0 0 24 24\"\n",
              "       width=\"24px\">\n",
              "    <path d=\"M7,19H8.4L18.45,9,17,7.55,7,17.6ZM5,21V16.75L18.45,3.32a2,2,0,0,1,2.83,0l1.4,1.43a1.91,1.91,0,0,1,.58,1.4,1.91,1.91,0,0,1-.58,1.4L9.25,21ZM18.45,9,17,7.55Zm-12,3A5.31,5.31,0,0,0,4.9,8.1,5.31,5.31,0,0,0,1,6.5,5.31,5.31,0,0,0,4.9,4.9,5.31,5.31,0,0,0,6.5,1,5.31,5.31,0,0,0,8.1,4.9,5.31,5.31,0,0,0,12,6.5,5.46,5.46,0,0,0,6.5,12Z\"/>\n",
              "  </svg>\n",
              "    </button>\n",
              "    <script>\n",
              "      (() => {\n",
              "      const buttonEl =\n",
              "        document.querySelector('#id_37ff3b62-fe9b-41fd-b46b-4ec79490723c button.colab-df-generate');\n",
              "      buttonEl.style.display =\n",
              "        google.colab.kernel.accessAllowed ? 'block' : 'none';\n",
              "\n",
              "      buttonEl.onclick = () => {\n",
              "        google.colab.notebook.generateWithVariable('normalized_std_df');\n",
              "      }\n",
              "      })();\n",
              "    </script>\n",
              "  </div>\n",
              "\n",
              "    </div>\n",
              "  </div>\n"
            ],
            "application/vnd.google.colaboratory.intrinsic+json": {
              "type": "dataframe",
              "variable_name": "normalized_std_df"
            }
          },
          "metadata": {},
          "execution_count": 375
        }
      ]
    },
    {
      "cell_type": "markdown",
      "metadata": {
        "id": "lz7noBb1wjJS"
      },
      "source": [
        "##**Weekly Average data for Clustering**"
      ]
    },
    {
      "cell_type": "code",
      "execution_count": 376,
      "metadata": {
        "id": "ZS22sInkplvV"
      },
      "outputs": [],
      "source": [
        "# Convert DateTime column to datetime objects\n",
        "normalized_std_df['DateTime'] = pd.to_datetime(normalized_std_df['DateTime'])\n",
        "normalized_tou_df['DateTime'] = pd.to_datetime(normalized_tou_df['DateTime'])\n",
        "\n",
        "# Extract the half-hour within the week\n",
        "normalized_std_df['HalfHour'] = normalized_std_df['DateTime'].dt.dayofweek * 48 + normalized_std_df['DateTime'].dt.hour * 2 + normalized_std_df['DateTime'].dt.minute // 30\n",
        "normalized_tou_df['HalfHour'] = normalized_tou_df['DateTime'].dt.dayofweek * 48 + normalized_tou_df['DateTime'].dt.hour * 2 + normalized_tou_df['DateTime'].dt.minute // 30\n",
        "\n",
        "# Calculate the average for each half-hour period across all weeks\n",
        "std_weekly_hh_avg = normalized_std_df.groupby(['LCLid', 'HalfHour']).mean().reset_index()\n",
        "tou_weekly_hh_avg = normalized_tou_df.groupby(['LCLid', 'HalfHour']).mean().reset_index()\n",
        "# Drop the DateTime column\n",
        "std_weekly_hh_avg.drop(columns=['DateTime'], inplace=True)\n",
        "tou_weekly_hh_avg.drop(columns=['DateTime'], inplace=True)"
      ]
    },
    {
      "cell_type": "code",
      "source": [
        "std_weekly_hh_avg"
      ],
      "metadata": {
        "id": "hgyWaJPUrs3C"
      },
      "execution_count": null,
      "outputs": []
    },
    {
      "cell_type": "code",
      "source": [
        "# Pivoting STD Weekly dataframe\n",
        "std_hh_avg_pivoted_df = std_weekly_hh_avg.pivot(index='LCLid', columns='HalfHour', values='Consumption')\n",
        "std_hh_avg_pivoted_df.columns.name = None\n",
        "std_hh_avg_pivoted_df.reset_index(inplace=True)\n",
        "\n",
        "#Pivoting ToU Weekly average dataframe\n",
        "tou_hh_avg_pivoted_df = tou_weekly_hh_avg.pivot(index='LCLid', columns='HalfHour', values='Consumption')\n",
        "tou_hh_avg_pivoted_df.columns.name = None\n",
        "tou_hh_avg_pivoted_df.reset_index(inplace=True)"
      ],
      "metadata": {
        "id": "-YidlGv0_6RX"
      },
      "execution_count": 377,
      "outputs": []
    },
    {
      "cell_type": "code",
      "source": [
        "plot_average_day_comparison(std_hh_avg_pivoted_df, tou_hh_avg_pivoted_df)"
      ],
      "metadata": {
        "colab": {
          "base_uri": "https://localhost:8080/",
          "height": 729
        },
        "id": "1FTrhA9NNSKg",
        "outputId": "7a101b63-efaa-4778-97bb-d2f2bb1e8bf2"
      },
      "execution_count": 378,
      "outputs": [
        {
          "output_type": "display_data",
          "data": {
            "text/plain": [
              "<Figure size 1400x700 with 2 Axes>"
            ],
            "image/png": "[encoded data removed]"
          },
          "metadata": {}
        }
      ]
    },
    {
      "cell_type": "markdown",
      "metadata": {
        "id": "rY4BNDQqS-lZ"
      },
      "source": [
        "## **Performing Kmeans Cluster with DTW for STD**"
      ]
    },
    {
      "cell_type": "code",
      "execution_count": 393,
      "metadata": {
        "id": "vGSanomGS1F8",
        "colab": {
          "base_uri": "https://localhost:8080/"
        },
        "outputId": "17a5b26f-c8cf-4c35-c2e6-ad1ba804067c"
      },
      "outputs": [
        {
          "output_type": "stream",
          "name": "stdout",
          "text": [
            "Explained Variance by each component: [4.63815723e-01 2.46661650e-01 5.09529699e-02 4.10515148e-02\n",
            " 3.48059960e-02 2.17897551e-02 1.63825821e-02 1.59645132e-02\n",
            " 1.25121875e-02 1.11151744e-02 8.37531077e-03 8.09587477e-03\n",
            " 6.98394585e-03 5.93054332e-03 5.56077059e-03 5.19546259e-03\n",
            " 4.52445441e-03 4.02995973e-03 3.74114290e-03 3.59046021e-03\n",
            " 2.93951646e-03 2.64052848e-03 2.39935919e-03 2.30260131e-03\n",
            " 1.85755931e-03 1.72308510e-03 1.46077060e-03 1.34840906e-03\n",
            " 1.28211485e-03 1.17645209e-03 1.08978394e-03 1.05130127e-03\n",
            " 9.96669715e-04 8.85635663e-04 7.64680963e-04 7.28247904e-04\n",
            " 6.09207878e-04 5.40445191e-04 4.46249713e-04 4.31238691e-04\n",
            " 3.91773714e-04 3.61420805e-04 3.28765947e-04 2.57836328e-04\n",
            " 2.53369657e-04 2.16398027e-04 1.98854074e-04 1.45219716e-04\n",
            " 9.25128321e-05 9.14715228e-32]\n",
            "Cumulative Explained Variance: [0.46381572 0.71047737 0.76143034 0.80248186 0.83728785 0.85907761\n",
            " 0.87546019 0.8914247  0.90393689 0.91505207 0.92342738 0.93152325\n",
            " 0.9385072  0.94443774 0.94999851 0.95519397 0.95971843 0.96374839\n",
            " 0.96748953 0.97107999 0.97401951 0.97666004 0.9790594  0.981362\n",
            " 0.98321956 0.98494264 0.98640341 0.98775182 0.98903394 0.99021039\n",
            " 0.99130017 0.99235147 0.99334814 0.99423378 0.99499846 0.99572671\n",
            " 0.99633592 0.99687636 0.99732261 0.99775385 0.99814562 0.99850704\n",
            " 0.99883581 0.99909365 0.99934702 0.99956341 0.99976227 0.99990749\n",
            " 1.         1.        ]\n"
          ]
        }
      ],
      "source": [
        "#Perform the PCA\n",
        "std_pca= perform_pca(std_hh_avg_pivoted_df)"
      ]
    },
    {
      "cell_type": "code",
      "source": [
        "# Find the Optimal number of Cluster\n",
        "find_optimal_clusters_pca(std_pca, max_clusters=10)"
      ],
      "metadata": {
        "colab": {
          "base_uri": "https://localhost:8080/",
          "height": 1000
        },
        "id": "QTeWymsXZgML",
        "outputId": "b54e325a-b174-4a19-fe16-68238b7d8df3"
      },
      "execution_count": 394,
      "outputs": [
        {
          "output_type": "stream",
          "name": "stderr",
          "text": [
            "[Parallel(n_jobs=1)]: Done  49 tasks      | elapsed:    0.0s\n",
            "[Parallel(n_jobs=1)]: Done  49 tasks      | elapsed:    0.0s\n",
            "[Parallel(n_jobs=1)]: Done  49 tasks      | elapsed:    0.0s\n"
          ]
        },
        {
          "output_type": "stream",
          "name": "stdout",
          "text": [
            "211.699 --> "
          ]
        },
        {
          "output_type": "stream",
          "name": "stderr",
          "text": [
            "[Parallel(n_jobs=1)]: Done  49 tasks      | elapsed:    0.0s\n",
            "[Parallel(n_jobs=1)]: Done  49 tasks      | elapsed:    0.0s\n",
            "[Parallel(n_jobs=1)]: Done  49 tasks      | elapsed:    0.0s\n"
          ]
        },
        {
          "output_type": "stream",
          "name": "stdout",
          "text": [
            "158.744 --> 154.905 --> 153.892 --> "
          ]
        },
        {
          "output_type": "stream",
          "name": "stderr",
          "text": [
            "[Parallel(n_jobs=1)]: Done  49 tasks      | elapsed:    0.0s\n",
            "[Parallel(n_jobs=1)]: Done  49 tasks      | elapsed:    0.0s\n"
          ]
        },
        {
          "output_type": "stream",
          "name": "stdout",
          "text": [
            "153.892 --> \n"
          ]
        },
        {
          "output_type": "stream",
          "name": "stderr",
          "text": [
            "[Parallel(n_jobs=1)]: Done  49 tasks      | elapsed:    0.0s\n",
            "[Parallel(n_jobs=1)]: Done  49 tasks      | elapsed:    0.0s\n",
            "[Parallel(n_jobs=1)]: Done  49 tasks      | elapsed:    0.0s\n",
            "[Parallel(n_jobs=1)]: Done  49 tasks      | elapsed:    0.0s\n"
          ]
        },
        {
          "output_type": "stream",
          "name": "stdout",
          "text": [
            "149.143 --> "
          ]
        },
        {
          "output_type": "stream",
          "name": "stderr",
          "text": [
            "[Parallel(n_jobs=1)]: Done  49 tasks      | elapsed:    0.0s\n",
            "[Parallel(n_jobs=1)]: Done  49 tasks      | elapsed:    0.0s\n",
            "[Parallel(n_jobs=1)]: Done  49 tasks      | elapsed:    0.0s\n"
          ]
        },
        {
          "output_type": "stream",
          "name": "stdout",
          "text": [
            "99.706 --> 95.388 --> 95.388 --> \n"
          ]
        },
        {
          "output_type": "stream",
          "name": "stderr",
          "text": [
            "[Parallel(n_jobs=1)]: Done  49 tasks      | elapsed:    0.0s\n",
            "[Parallel(n_jobs=1)]: Done  49 tasks      | elapsed:    0.0s\n",
            "[Parallel(n_jobs=1)]: Done  49 tasks      | elapsed:    0.0s\n",
            "[Parallel(n_jobs=1)]: Done  49 tasks      | elapsed:    0.0s\n",
            "[Parallel(n_jobs=1)]: Done  49 tasks      | elapsed:    0.0s\n",
            "[Parallel(n_jobs=1)]: Done  49 tasks      | elapsed:    0.0s\n",
            "[Parallel(n_jobs=1)]: Done 199 tasks      | elapsed:    0.0s\n"
          ]
        },
        {
          "output_type": "stream",
          "name": "stdout",
          "text": [
            "133.962 --> "
          ]
        },
        {
          "output_type": "stream",
          "name": "stderr",
          "text": [
            "[Parallel(n_jobs=1)]: Done  49 tasks      | elapsed:    0.0s\n",
            "[Parallel(n_jobs=1)]: Done 199 tasks      | elapsed:    0.0s\n",
            "[Parallel(n_jobs=1)]: Done  49 tasks      | elapsed:    0.0s\n",
            "[Parallel(n_jobs=1)]: Done 199 tasks      | elapsed:    0.0s\n"
          ]
        },
        {
          "output_type": "stream",
          "name": "stdout",
          "text": [
            "80.884 --> 79.550 --> "
          ]
        },
        {
          "output_type": "stream",
          "name": "stderr",
          "text": [
            "[Parallel(n_jobs=1)]: Done  49 tasks      | elapsed:    0.0s\n",
            "[Parallel(n_jobs=1)]: Done 199 tasks      | elapsed:    0.0s\n",
            "[Parallel(n_jobs=1)]: Done  49 tasks      | elapsed:    0.0s\n",
            "[Parallel(n_jobs=1)]: Done 199 tasks      | elapsed:    0.0s\n",
            "[Parallel(n_jobs=1)]: Done  49 tasks      | elapsed:    0.0s\n",
            "[Parallel(n_jobs=1)]: Done 199 tasks      | elapsed:    0.0s\n"
          ]
        },
        {
          "output_type": "stream",
          "name": "stdout",
          "text": [
            "77.877 --> 77.877 --> \n"
          ]
        },
        {
          "output_type": "stream",
          "name": "stderr",
          "text": [
            "[Parallel(n_jobs=1)]: Done  49 tasks      | elapsed:    0.0s\n",
            "[Parallel(n_jobs=1)]: Done  49 tasks      | elapsed:    0.0s\n",
            "[Parallel(n_jobs=1)]: Done  49 tasks      | elapsed:    0.0s\n",
            "[Parallel(n_jobs=1)]: Done  49 tasks      | elapsed:    0.0s\n",
            "[Parallel(n_jobs=1)]: Done  49 tasks      | elapsed:    0.0s\n",
            "[Parallel(n_jobs=1)]: Done  49 tasks      | elapsed:    0.0s\n",
            "[Parallel(n_jobs=1)]: Done 199 tasks      | elapsed:    0.0s\n"
          ]
        },
        {
          "output_type": "stream",
          "name": "stdout",
          "text": [
            "83.372 --> 61.514 --> "
          ]
        },
        {
          "output_type": "stream",
          "name": "stderr",
          "text": [
            "[Parallel(n_jobs=1)]: Done  49 tasks      | elapsed:    0.0s\n",
            "[Parallel(n_jobs=1)]: Done 199 tasks      | elapsed:    0.0s\n",
            "[Parallel(n_jobs=1)]: Done  49 tasks      | elapsed:    0.0s\n",
            "[Parallel(n_jobs=1)]: Done 199 tasks      | elapsed:    0.0s\n",
            "[Parallel(n_jobs=1)]: Done  49 tasks      | elapsed:    0.0s\n",
            "[Parallel(n_jobs=1)]: Done 199 tasks      | elapsed:    0.0s\n"
          ]
        },
        {
          "output_type": "stream",
          "name": "stdout",
          "text": [
            "61.514 --> \n"
          ]
        },
        {
          "output_type": "stream",
          "name": "stderr",
          "text": [
            "[Parallel(n_jobs=1)]: Done  49 tasks      | elapsed:    0.0s\n",
            "[Parallel(n_jobs=1)]: Done  49 tasks      | elapsed:    0.0s\n",
            "[Parallel(n_jobs=1)]: Done  49 tasks      | elapsed:    0.0s\n",
            "[Parallel(n_jobs=1)]: Done  49 tasks      | elapsed:    0.0s\n",
            "[Parallel(n_jobs=1)]: Done  49 tasks      | elapsed:    0.0s\n",
            "[Parallel(n_jobs=1)]: Done  49 tasks      | elapsed:    0.0s\n",
            "[Parallel(n_jobs=1)]: Done  49 tasks      | elapsed:    0.0s\n",
            "[Parallel(n_jobs=1)]: Done 199 tasks      | elapsed:    0.0s\n"
          ]
        },
        {
          "output_type": "stream",
          "name": "stdout",
          "text": [
            "73.269 --> "
          ]
        },
        {
          "output_type": "stream",
          "name": "stderr",
          "text": [
            "[Parallel(n_jobs=1)]: Done  49 tasks      | elapsed:    0.0s\n",
            "[Parallel(n_jobs=1)]: Done 199 tasks      | elapsed:    0.0s\n",
            "[Parallel(n_jobs=1)]: Done  49 tasks      | elapsed:    0.0s\n",
            "[Parallel(n_jobs=1)]: Done 199 tasks      | elapsed:    0.0s\n",
            "[Parallel(n_jobs=1)]: Done  49 tasks      | elapsed:    0.0s\n",
            "[Parallel(n_jobs=1)]: Done 199 tasks      | elapsed:    0.0s\n"
          ]
        },
        {
          "output_type": "stream",
          "name": "stdout",
          "text": [
            "54.665 --> 54.665 --> \n"
          ]
        },
        {
          "output_type": "stream",
          "name": "stderr",
          "text": [
            "[Parallel(n_jobs=1)]: Done  49 tasks      | elapsed:    0.0s\n",
            "[Parallel(n_jobs=1)]: Done  49 tasks      | elapsed:    0.0s\n",
            "[Parallel(n_jobs=1)]: Done  49 tasks      | elapsed:    0.0s\n",
            "[Parallel(n_jobs=1)]: Done  49 tasks      | elapsed:    0.0s\n",
            "[Parallel(n_jobs=1)]: Done  49 tasks      | elapsed:    0.0s\n",
            "[Parallel(n_jobs=1)]: Done  49 tasks      | elapsed:    0.0s\n",
            "[Parallel(n_jobs=1)]: Done  49 tasks      | elapsed:    0.0s\n",
            "[Parallel(n_jobs=1)]: Done  49 tasks      | elapsed:    0.0s\n",
            "[Parallel(n_jobs=1)]: Done 199 tasks      | elapsed:    0.0s\n"
          ]
        },
        {
          "output_type": "stream",
          "name": "stdout",
          "text": [
            "64.349 --> "
          ]
        },
        {
          "output_type": "stream",
          "name": "stderr",
          "text": [
            "[Parallel(n_jobs=1)]: Done  49 tasks      | elapsed:    0.0s\n",
            "[Parallel(n_jobs=1)]: Done 199 tasks      | elapsed:    0.0s\n",
            "[Parallel(n_jobs=1)]: Done  49 tasks      | elapsed:    0.0s\n",
            "[Parallel(n_jobs=1)]: Done 199 tasks      | elapsed:    0.0s\n",
            "[Parallel(n_jobs=1)]: Done  49 tasks      | elapsed:    0.0s\n"
          ]
        },
        {
          "output_type": "stream",
          "name": "stdout",
          "text": [
            "50.346 --> 49.674 --> 49.674 --> "
          ]
        },
        {
          "output_type": "stream",
          "name": "stderr",
          "text": [
            "[Parallel(n_jobs=1)]: Done 199 tasks      | elapsed:    0.0s\n",
            "[Parallel(n_jobs=1)]: Done  49 tasks      | elapsed:    0.0s\n",
            "[Parallel(n_jobs=1)]: Done 199 tasks      | elapsed:    0.0s\n"
          ]
        },
        {
          "output_type": "stream",
          "name": "stdout",
          "text": [
            "\n"
          ]
        },
        {
          "output_type": "stream",
          "name": "stderr",
          "text": [
            "[Parallel(n_jobs=1)]: Done  49 tasks      | elapsed:    0.0s\n",
            "[Parallel(n_jobs=1)]: Done  49 tasks      | elapsed:    0.0s\n",
            "[Parallel(n_jobs=1)]: Done 199 tasks      | elapsed:    0.0s\n",
            "[Parallel(n_jobs=1)]: Done  49 tasks      | elapsed:    0.0s\n",
            "[Parallel(n_jobs=1)]: Done 199 tasks      | elapsed:    0.0s\n",
            "[Parallel(n_jobs=1)]: Done  49 tasks      | elapsed:    0.0s\n",
            "[Parallel(n_jobs=1)]: Done 199 tasks      | elapsed:    0.0s\n",
            "[Parallel(n_jobs=1)]: Done  49 tasks      | elapsed:    0.0s\n",
            "[Parallel(n_jobs=1)]: Done 199 tasks      | elapsed:    0.1s\n",
            "[Parallel(n_jobs=1)]: Done  49 tasks      | elapsed:    0.0s\n",
            "[Parallel(n_jobs=1)]: Done 199 tasks      | elapsed:    0.0s\n",
            "[Parallel(n_jobs=1)]: Done  49 tasks      | elapsed:    0.0s\n",
            "[Parallel(n_jobs=1)]: Done 199 tasks      | elapsed:    0.0s\n",
            "[Parallel(n_jobs=1)]: Done  49 tasks      | elapsed:    0.0s\n",
            "[Parallel(n_jobs=1)]: Done 199 tasks      | elapsed:    0.1s\n",
            "[Parallel(n_jobs=1)]: Done  49 tasks      | elapsed:    0.0s\n",
            "[Parallel(n_jobs=1)]: Done 199 tasks      | elapsed:    0.0s\n"
          ]
        },
        {
          "output_type": "stream",
          "name": "stdout",
          "text": [
            "62.039 --> "
          ]
        },
        {
          "output_type": "stream",
          "name": "stderr",
          "text": [
            "[Parallel(n_jobs=1)]: Done  49 tasks      | elapsed:    0.0s\n",
            "[Parallel(n_jobs=1)]: Done 199 tasks      | elapsed:    0.0s\n",
            "[Parallel(n_jobs=1)]: Done  49 tasks      | elapsed:    0.0s\n",
            "[Parallel(n_jobs=1)]: Done 199 tasks      | elapsed:    0.0s\n"
          ]
        },
        {
          "output_type": "stream",
          "name": "stdout",
          "text": [
            "46.982 --> 46.183 --> "
          ]
        },
        {
          "output_type": "stream",
          "name": "stderr",
          "text": [
            "[Parallel(n_jobs=1)]: Done  49 tasks      | elapsed:    0.0s\n",
            "[Parallel(n_jobs=1)]: Done 199 tasks      | elapsed:    0.0s\n",
            "[Parallel(n_jobs=1)]: Done  49 tasks      | elapsed:    0.0s\n",
            "[Parallel(n_jobs=1)]: Done 199 tasks      | elapsed:    0.0s\n"
          ]
        },
        {
          "output_type": "stream",
          "name": "stdout",
          "text": [
            "45.853 --> 45.853 --> \n"
          ]
        },
        {
          "output_type": "stream",
          "name": "stderr",
          "text": [
            "[Parallel(n_jobs=1)]: Done  49 tasks      | elapsed:    0.0s\n",
            "[Parallel(n_jobs=1)]: Done 199 tasks      | elapsed:    0.0s\n",
            "[Parallel(n_jobs=1)]: Done  49 tasks      | elapsed:    0.0s\n",
            "[Parallel(n_jobs=1)]: Done  49 tasks      | elapsed:    0.0s\n",
            "[Parallel(n_jobs=1)]: Done 199 tasks      | elapsed:    0.0s\n",
            "[Parallel(n_jobs=1)]: Done  49 tasks      | elapsed:    0.0s\n",
            "[Parallel(n_jobs=1)]: Done 199 tasks      | elapsed:    0.0s\n",
            "[Parallel(n_jobs=1)]: Done  49 tasks      | elapsed:    0.0s\n",
            "[Parallel(n_jobs=1)]: Done 199 tasks      | elapsed:    0.0s\n",
            "[Parallel(n_jobs=1)]: Done  49 tasks      | elapsed:    0.0s\n",
            "[Parallel(n_jobs=1)]: Done 199 tasks      | elapsed:    0.0s\n",
            "[Parallel(n_jobs=1)]: Done  49 tasks      | elapsed:    0.0s\n",
            "[Parallel(n_jobs=1)]: Done 199 tasks      | elapsed:    0.0s\n",
            "[Parallel(n_jobs=1)]: Done  49 tasks      | elapsed:    0.0s\n",
            "[Parallel(n_jobs=1)]: Done 199 tasks      | elapsed:    0.0s\n",
            "[Parallel(n_jobs=1)]: Done  49 tasks      | elapsed:    0.0s\n",
            "[Parallel(n_jobs=1)]: Done 199 tasks      | elapsed:    0.0s\n",
            "[Parallel(n_jobs=1)]: Done  49 tasks      | elapsed:    0.0s\n",
            "[Parallel(n_jobs=1)]: Done 199 tasks      | elapsed:    0.0s\n",
            "[Parallel(n_jobs=1)]: Done  49 tasks      | elapsed:    0.0s\n",
            "[Parallel(n_jobs=1)]: Done 199 tasks      | elapsed:    0.0s\n",
            "[Parallel(n_jobs=1)]: Done 449 tasks      | elapsed:    0.1s\n"
          ]
        },
        {
          "output_type": "stream",
          "name": "stdout",
          "text": [
            "60.070 --> "
          ]
        },
        {
          "output_type": "stream",
          "name": "stderr",
          "text": [
            "[Parallel(n_jobs=1)]: Done  49 tasks      | elapsed:    0.0s\n",
            "[Parallel(n_jobs=1)]: Done 199 tasks      | elapsed:    0.0s\n",
            "[Parallel(n_jobs=1)]: Done 449 tasks      | elapsed:    0.1s\n",
            "[Parallel(n_jobs=1)]: Done  49 tasks      | elapsed:    0.0s\n"
          ]
        },
        {
          "output_type": "stream",
          "name": "stdout",
          "text": [
            "45.336 --> 44.543"
          ]
        },
        {
          "output_type": "stream",
          "name": "stderr",
          "text": [
            "[Parallel(n_jobs=1)]: Done 199 tasks      | elapsed:    0.0s\n",
            "[Parallel(n_jobs=1)]: Done 449 tasks      | elapsed:    0.1s\n",
            "[Parallel(n_jobs=1)]: Done  49 tasks      | elapsed:    0.0s\n",
            "[Parallel(n_jobs=1)]: Done 199 tasks      | elapsed:    0.0s\n",
            "[Parallel(n_jobs=1)]: Done 449 tasks      | elapsed:    0.1s\n"
          ]
        },
        {
          "output_type": "stream",
          "name": "stdout",
          "text": [
            " --> 44.145 --> "
          ]
        },
        {
          "output_type": "stream",
          "name": "stderr",
          "text": [
            "[Parallel(n_jobs=1)]: Done  49 tasks      | elapsed:    0.0s\n",
            "[Parallel(n_jobs=1)]: Done 199 tasks      | elapsed:    0.0s\n",
            "[Parallel(n_jobs=1)]: Done 449 tasks      | elapsed:    0.1s\n",
            "[Parallel(n_jobs=1)]: Done  49 tasks      | elapsed:    0.0s\n",
            "[Parallel(n_jobs=1)]: Done 199 tasks      | elapsed:    0.0s\n"
          ]
        },
        {
          "output_type": "stream",
          "name": "stdout",
          "text": [
            "44.145 --> \n"
          ]
        },
        {
          "output_type": "stream",
          "name": "stderr",
          "text": [
            "[Parallel(n_jobs=1)]: Done 449 tasks      | elapsed:    0.1s\n",
            "[Parallel(n_jobs=1)]: Done  49 tasks      | elapsed:    0.0s\n",
            "[Parallel(n_jobs=1)]: Done  49 tasks      | elapsed:    0.0s\n",
            "[Parallel(n_jobs=1)]: Done 199 tasks      | elapsed:    0.0s\n",
            "[Parallel(n_jobs=1)]: Done  49 tasks      | elapsed:    0.0s\n",
            "[Parallel(n_jobs=1)]: Done 199 tasks      | elapsed:    0.0s\n",
            "[Parallel(n_jobs=1)]: Done  49 tasks      | elapsed:    0.0s\n",
            "[Parallel(n_jobs=1)]: Done 199 tasks      | elapsed:    0.0s\n",
            "[Parallel(n_jobs=1)]: Done  49 tasks      | elapsed:    0.0s\n",
            "[Parallel(n_jobs=1)]: Done 199 tasks      | elapsed:    0.0s\n",
            "[Parallel(n_jobs=1)]: Done  49 tasks      | elapsed:    0.0s\n",
            "[Parallel(n_jobs=1)]: Done 199 tasks      | elapsed:    0.1s\n",
            "[Parallel(n_jobs=1)]: Done  49 tasks      | elapsed:    0.0s\n",
            "[Parallel(n_jobs=1)]: Done 199 tasks      | elapsed:    0.0s\n",
            "[Parallel(n_jobs=1)]: Done  49 tasks      | elapsed:    0.0s\n",
            "[Parallel(n_jobs=1)]: Done 199 tasks      | elapsed:    0.0s\n",
            "[Parallel(n_jobs=1)]: Done  49 tasks      | elapsed:    0.0s\n",
            "[Parallel(n_jobs=1)]: Done 199 tasks      | elapsed:    0.0s\n",
            "[Parallel(n_jobs=1)]: Done  49 tasks      | elapsed:    0.0s\n",
            "[Parallel(n_jobs=1)]: Done 199 tasks      | elapsed:    0.0s\n",
            "[Parallel(n_jobs=1)]: Done  49 tasks      | elapsed:    0.0s\n",
            "[Parallel(n_jobs=1)]: Done 199 tasks      | elapsed:    0.0s\n",
            "[Parallel(n_jobs=1)]: Done 449 tasks      | elapsed:    0.1s\n"
          ]
        },
        {
          "output_type": "stream",
          "name": "stdout",
          "text": [
            "56.934 --> "
          ]
        },
        {
          "output_type": "stream",
          "name": "stderr",
          "text": [
            "[Parallel(n_jobs=1)]: Done  49 tasks      | elapsed:    0.0s\n",
            "[Parallel(n_jobs=1)]: Done 199 tasks      | elapsed:    0.0s\n",
            "[Parallel(n_jobs=1)]: Done 449 tasks      | elapsed:    0.1s\n"
          ]
        },
        {
          "output_type": "stream",
          "name": "stdout",
          "text": [
            "43.373 --> "
          ]
        },
        {
          "output_type": "stream",
          "name": "stderr",
          "text": [
            "[Parallel(n_jobs=1)]: Done  49 tasks      | elapsed:    0.0s\n",
            "[Parallel(n_jobs=1)]: Done 199 tasks      | elapsed:    0.0s\n",
            "[Parallel(n_jobs=1)]: Done 449 tasks      | elapsed:    0.1s\n",
            "[Parallel(n_jobs=1)]: Done  49 tasks      | elapsed:    0.0s\n"
          ]
        },
        {
          "output_type": "stream",
          "name": "stdout",
          "text": [
            "42.580 --> 42.183 --> "
          ]
        },
        {
          "output_type": "stream",
          "name": "stderr",
          "text": [
            "[Parallel(n_jobs=1)]: Done 199 tasks      | elapsed:    0.1s\n",
            "[Parallel(n_jobs=1)]: Done 449 tasks      | elapsed:    0.1s\n",
            "[Parallel(n_jobs=1)]: Done  49 tasks      | elapsed:    0.0s\n",
            "[Parallel(n_jobs=1)]: Done 199 tasks      | elapsed:    0.0s\n",
            "[Parallel(n_jobs=1)]: Done 449 tasks      | elapsed:    0.0s\n"
          ]
        },
        {
          "output_type": "stream",
          "name": "stdout",
          "text": [
            "42.183 --> \n"
          ]
        },
        {
          "output_type": "stream",
          "name": "stderr",
          "text": [
            "[Parallel(n_jobs=1)]: Done  49 tasks      | elapsed:    0.0s\n",
            "[Parallel(n_jobs=1)]: Done 199 tasks      | elapsed:    0.0s\n",
            "[Parallel(n_jobs=1)]: Done 449 tasks      | elapsed:    0.1s\n"
          ]
        },
        {
          "output_type": "display_data",
          "data": {
            "text/plain": [
              "<Figure size 1200x600 with 1 Axes>"
            ],
            "image/png": "[encoded data removed]"
          },
          "metadata": {}
        },
        {
          "output_type": "display_data",
          "data": {
            "text/plain": [
              "<Figure size 1200x600 with 1 Axes>"
            ],
            "image/png": "[encoded data removed]"
          },
          "metadata": {}
        },
        {
          "output_type": "stream",
          "name": "stdout",
          "text": [
            "Optimal number of clusters: 3\n"
          ]
        }
      ]
    },
    {
      "cell_type": "code",
      "source": [
        "# Perform Clustering with the optimal number of clusters\n",
        "std_pca_with_clusters = perform_clustering(std_pca, n_clusters=3)"
      ],
      "metadata": {
        "colab": {
          "base_uri": "https://localhost:8080/"
        },
        "id": "OjpMNWmZeiKQ",
        "outputId": "c9878a8f-55e2-46eb-c80e-a8370cfe7020"
      },
      "execution_count": 385,
      "outputs": [
        {
          "output_type": "stream",
          "name": "stderr",
          "text": [
            "[Parallel(n_jobs=1)]: Done  49 tasks      | elapsed:    0.0s\n",
            "[Parallel(n_jobs=1)]: Done  49 tasks      | elapsed:    0.0s\n",
            "[Parallel(n_jobs=1)]: Done  49 tasks      | elapsed:    0.0s\n",
            "[Parallel(n_jobs=1)]: Done  49 tasks      | elapsed:    0.0s\n"
          ]
        },
        {
          "output_type": "stream",
          "name": "stdout",
          "text": [
            "149.143 --> "
          ]
        },
        {
          "output_type": "stream",
          "name": "stderr",
          "text": [
            "[Parallel(n_jobs=1)]: Done  49 tasks      | elapsed:    0.0s\n"
          ]
        },
        {
          "output_type": "stream",
          "name": "stdout",
          "text": [
            "99.706 --> "
          ]
        },
        {
          "output_type": "stream",
          "name": "stderr",
          "text": [
            "[Parallel(n_jobs=1)]: Done  49 tasks      | elapsed:    0.0s\n",
            "[Parallel(n_jobs=1)]: Done  49 tasks      | elapsed:    0.0s\n",
            "[Parallel(n_jobs=1)]: Done  49 tasks      | elapsed:    0.0s\n"
          ]
        },
        {
          "output_type": "stream",
          "name": "stdout",
          "text": [
            "95.388 --> 95.388 --> \n"
          ]
        }
      ]
    },
    {
      "cell_type": "code",
      "source": [
        "# Plot clusters using the first two PCA components\n",
        "plot_clusters(std_pca_with_clusters, 'Clusters formation for STD')"
      ],
      "metadata": {
        "colab": {
          "base_uri": "https://localhost:8080/",
          "height": 872
        },
        "id": "S0u_YwhumKm6",
        "outputId": "5fb24c9f-4559-4cb7-e013-7f8789b7dad8"
      },
      "execution_count": 387,
      "outputs": [
        {
          "output_type": "display_data",
          "data": {
            "text/plain": [
              "<Figure size 1500x1000 with 1 Axes>"
            ],
            "image/png": "[encoded data removed]"
          },
          "metadata": {}
        }
      ]
    },
    {
      "cell_type": "code",
      "source": [
        "std_hhavg_clusters = std_hh_avg_pivoted_df.copy()\n",
        "std_hhavg_clusters['Cluster'] = std_pca_with_clusters['Cluster'].values\n",
        "plot_cluster_daily_consumption(std_hhavg_clusters)"
      ],
      "metadata": {
        "colab": {
          "base_uri": "https://localhost:8080/",
          "height": 641
        },
        "id": "pZ4SMJEGbnhX",
        "outputId": "ab07e255-afed-4725-c743-d5e055d071bf"
      },
      "execution_count": 391,
      "outputs": [
        {
          "output_type": "display_data",
          "data": {
            "text/plain": [
              "<Figure size 1400x700 with 1 Axes>"
            ],
            "image/png": "[encoded data removed]"
          },
          "metadata": {}
        }
      ]
    },
    {
      "cell_type": "markdown",
      "metadata": {
        "id": "1feXnylkwUey"
      },
      "source": [
        "## **Hourly Data for Forecasting**"
      ]
    },
    {
      "cell_type": "code",
      "execution_count": null,
      "metadata": {
        "id": "J928-kPmJAHo"
      },
      "outputs": [],
      "source": [
        "# Set 'DateTime' as the index\n",
        "#std_data_clean.set_index('DateTime', inplace=True)\n",
        "#tou_data_clean.set_index('DateTime', inplace=True)\n",
        "\n",
        "#print(\"Index set successfully\")\n",
        "\n",
        "# Group by 'LCLid' and resample by hour, then aggregate the data\n",
        "#std_hourly_df = std_data_clean.groupby('LCLid').resample('H').agg({'Consumption': 'sum'}).reset_index()\n",
        "#tou_hourly_df = tou_data_clean.groupby('LCLid').resample('H').agg({'Consumption': 'sum'}).reset_index()\n",
        "\n",
        "#print(std_hourly_df)\n",
        "#print(tou_hourly_df)"
      ]
    },
    {
      "cell_type": "code",
      "execution_count": null,
      "metadata": {
        "id": "y2RTQTdQtbaK"
      },
      "outputs": [],
      "source": [
        "#std_weekly_half_hourly_avg"
      ]
    },
    {
      "cell_type": "code",
      "execution_count": null,
      "metadata": {
        "id": "p73gWFOKj8pj"
      },
      "outputs": [],
      "source": [
        "#std_hourly_df.to_csv('std_hourly_df.csv')\n",
        "#tou_hourly_df.to_csv('tou_hourly_df.csv')"
      ]
    },
    {
      "cell_type": "code",
      "execution_count": null,
      "metadata": {
        "id": "bWMqcGMI56Fc"
      },
      "outputs": [],
      "source": [
        "# Pivoting STD Weekly dataframe\n",
        "#std_pivoted_df = std_hourly_df.pivot(index='LCLid', columns='DateTime', values='Consumption')\n",
        "#std_pivoted_df.columns.name = None\n",
        "#std_pivoted_df.reset_index(inplace=True)"
      ]
    },
    {
      "cell_type": "code",
      "execution_count": null,
      "metadata": {
        "id": "99OhbcHD565e"
      },
      "outputs": [],
      "source": [
        "#std_pivoted_df"
      ]
    },
    {
      "cell_type": "code",
      "execution_count": null,
      "metadata": {
        "id": "UeWPHyJRKtql"
      },
      "outputs": [],
      "source": [
        "# Pivoting ToU Hourly dataframe\n",
        "#tou_pivoted_df = tou_hourly_df.pivot(index='LCLid', columns='DateTime', values='Consumption')\n",
        "#tou_pivoted_df.columns.name = None\n",
        "#tou_pivoted_df.reset_index(inplace=True)"
      ]
    },
    {
      "cell_type": "code",
      "execution_count": null,
      "metadata": {
        "id": "OeVPstK4Sxdh"
      },
      "outputs": [],
      "source": [
        "#tou_pivoted_df"
      ]
    },
    {
      "cell_type": "code",
      "execution_count": null,
      "metadata": {
        "id": "O08MmFdES0Fj"
      },
      "outputs": [],
      "source": []
    },
    {
      "cell_type": "code",
      "execution_count": null,
      "metadata": {
        "id": "zIA_KPXnS2uO"
      },
      "outputs": [],
      "source": []
    }
  ],
  "metadata": {
    "accelerator": "GPU",
    "colab": {
      "gpuType": "T4",
      "provenance": [],
      "mount_file_id": "1XbrWpdPtdjZzRMy0EPpOgcFPVoH7we0e",
      "authorship_tag": "ABX9TyNo2oDCy0nVyJ9psjjYmqxw",
      "include_colab_link": true
    },
    "kernelspec": {
      "display_name": "Python 3",
      "name": "python3"
    },
    "language_info": {
      "name": "python"
    }
  },
  "nbformat": 4,
  "nbformat_minor": 0
}